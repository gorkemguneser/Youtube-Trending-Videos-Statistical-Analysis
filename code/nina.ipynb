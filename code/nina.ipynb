{
 "cells": [
  {
   "cell_type": "markdown",
   "metadata": {},
   "source": [
    "# YouTube Trending Videos Statistical Analysis"
   ]
  },
  {
   "cell_type": "markdown",
   "metadata": {},
   "source": [
    "## INTRODUCTION"
   ]
  },
  {
   "cell_type": "markdown",
   "metadata": {},
   "source": [
    "#### to be edited</b>\n",
    "<b>https://www.kaggle.com/rsrishav/youtube-trending-video-dataset"
   ]
  },
  {
   "cell_type": "code",
   "execution_count": 74,
   "metadata": {},
   "outputs": [],
   "source": [
    "# Importing libraries\n",
    "import math\n",
    "import pandas as pd\n",
    "import numpy as np\n",
    "import matplotlib.pyplot as plt\n",
    "import matplotlib.patches as mpatches\n",
    "import seaborn as sns\n",
    "import scipy\n",
    "from scipy import stats\n",
    "from scipy.stats import norm\n",
    "from scipy.stats import t\n",
    "from scipy.stats import ttest_1samp\n",
    "\n",
    "%matplotlib inline"
   ]
  },
  {
   "cell_type": "code",
   "execution_count": 75,
   "metadata": {},
   "outputs": [],
   "source": [
    "'''\n",
    "Later on we can also remove the ones we wouldn't use\n",
    "'''\n",
    "# Importing dataset\n",
    "data_gb = pd.read_csv(\"../data/GB_youtube_trending_data.csv\",sep=\",\")  #uk  \n",
    "data_fr = pd.read_csv(\"../data/FR_youtube_trending_data.csv\",sep=\",\")  #france\n",
    "data_us = pd.read_csv(\"../data/US_youtube_trending_data.csv\",sep=\",\")  #usa \n",
    "data_ru = pd.read_csv(\"../data/RU_youtube_trending_data.csv\",sep=\",\")  #russia\n",
    "data_de = pd.read_csv(\"../data/DE_youtube_trending_data.csv\",sep=\",\")  #germany \n",
    "data_ca = pd.read_csv(\"../data/CA_youtube_trending_data.csv\",sep=\",\")  #canada   \n",
    "data_kr = pd.read_csv(\"../data/KR_youtube_trending_data.csv\",sep=\",\")  #southkorea   \n",
    "data_jp = pd.read_csv(\"../data/JP_youtube_trending_data.csv\",sep=\",\")  #japan\n",
    "data_br = pd.read_csv(\"../data/BR_youtube_trending_data.csv\",sep=\",\")  #brazil\n",
    "data_mx = pd.read_csv(\"../data/MX_youtube_trending_data.csv\",sep=\",\")  #mexico"
   ]
  },
  {
   "cell_type": "code",
   "execution_count": 76,
   "metadata": {
    "scrolled": true
   },
   "outputs": [
    {
     "data": {
      "text/html": [
       "<div>\n",
       "<style scoped>\n",
       "    .dataframe tbody tr th:only-of-type {\n",
       "        vertical-align: middle;\n",
       "    }\n",
       "\n",
       "    .dataframe tbody tr th {\n",
       "        vertical-align: top;\n",
       "    }\n",
       "\n",
       "    .dataframe thead th {\n",
       "        text-align: right;\n",
       "    }\n",
       "</style>\n",
       "<table border=\"1\" class=\"dataframe\">\n",
       "  <thead>\n",
       "    <tr style=\"text-align: right;\">\n",
       "      <th></th>\n",
       "      <th>Property</th>\n",
       "      <th>Output</th>\n",
       "    </tr>\n",
       "  </thead>\n",
       "  <tbody>\n",
       "    <tr>\n",
       "      <th>0</th>\n",
       "      <td>video_id</td>\n",
       "      <td>J78aPJ3VyNs</td>\n",
       "    </tr>\n",
       "    <tr>\n",
       "      <th>1</th>\n",
       "      <td>title</td>\n",
       "      <td>I left youtube for a month and THIS is what ha...</td>\n",
       "    </tr>\n",
       "    <tr>\n",
       "      <th>2</th>\n",
       "      <td>publishedAt</td>\n",
       "      <td>2020-08-11T16:34:06Z</td>\n",
       "    </tr>\n",
       "    <tr>\n",
       "      <th>3</th>\n",
       "      <td>channelId</td>\n",
       "      <td>UCYzPXprvl5Y-Sf0g4vX-m6g</td>\n",
       "    </tr>\n",
       "    <tr>\n",
       "      <th>4</th>\n",
       "      <td>channelTitle</td>\n",
       "      <td>jacksepticeye</td>\n",
       "    </tr>\n",
       "    <tr>\n",
       "      <th>5</th>\n",
       "      <td>categoryId</td>\n",
       "      <td>24</td>\n",
       "    </tr>\n",
       "    <tr>\n",
       "      <th>6</th>\n",
       "      <td>trending_date</td>\n",
       "      <td>2020-08-12T00:00:00Z</td>\n",
       "    </tr>\n",
       "    <tr>\n",
       "      <th>7</th>\n",
       "      <td>tags</td>\n",
       "      <td>jacksepticeye|funny|funny meme|memes|jacksepti...</td>\n",
       "    </tr>\n",
       "    <tr>\n",
       "      <th>8</th>\n",
       "      <td>view_count</td>\n",
       "      <td>2038853</td>\n",
       "    </tr>\n",
       "    <tr>\n",
       "      <th>9</th>\n",
       "      <td>likes</td>\n",
       "      <td>353790</td>\n",
       "    </tr>\n",
       "    <tr>\n",
       "      <th>10</th>\n",
       "      <td>dislikes</td>\n",
       "      <td>2628</td>\n",
       "    </tr>\n",
       "    <tr>\n",
       "      <th>11</th>\n",
       "      <td>comment_count</td>\n",
       "      <td>40228</td>\n",
       "    </tr>\n",
       "    <tr>\n",
       "      <th>12</th>\n",
       "      <td>thumbnail_link</td>\n",
       "      <td>https://i.ytimg.com/vi/J78aPJ3VyNs/default.jpg</td>\n",
       "    </tr>\n",
       "    <tr>\n",
       "      <th>13</th>\n",
       "      <td>comments_disabled</td>\n",
       "      <td>False</td>\n",
       "    </tr>\n",
       "    <tr>\n",
       "      <th>14</th>\n",
       "      <td>ratings_disabled</td>\n",
       "      <td>False</td>\n",
       "    </tr>\n",
       "    <tr>\n",
       "      <th>15</th>\n",
       "      <td>description</td>\n",
       "      <td>I left youtube for a month and this is what ha...</td>\n",
       "    </tr>\n",
       "  </tbody>\n",
       "</table>\n",
       "</div>"
      ],
      "text/plain": [
       "             Property                                             Output\n",
       "0            video_id                                        J78aPJ3VyNs\n",
       "1               title  I left youtube for a month and THIS is what ha...\n",
       "2         publishedAt                               2020-08-11T16:34:06Z\n",
       "3           channelId                           UCYzPXprvl5Y-Sf0g4vX-m6g\n",
       "4        channelTitle                                      jacksepticeye\n",
       "5          categoryId                                                 24\n",
       "6       trending_date                               2020-08-12T00:00:00Z\n",
       "7                tags  jacksepticeye|funny|funny meme|memes|jacksepti...\n",
       "8          view_count                                            2038853\n",
       "9               likes                                             353790\n",
       "10           dislikes                                               2628\n",
       "11      comment_count                                              40228\n",
       "12     thumbnail_link     https://i.ytimg.com/vi/J78aPJ3VyNs/default.jpg\n",
       "13  comments_disabled                                              False\n",
       "14   ratings_disabled                                              False\n",
       "15        description  I left youtube for a month and this is what ha..."
      ]
     },
     "execution_count": 76,
     "metadata": {},
     "output_type": "execute_result"
    }
   ],
   "source": [
    "'''\n",
    "This can stay for now to easily see what are our properties in the dataset. We can delete it once\n",
    "we are familiar with the dataset\n",
    "'''\n",
    "brief_list_col = []\n",
    "brief_list = []\n",
    "\n",
    "for i in range(0,len(data_gb.columns)):\n",
    "    brief_list_col.append(data_gb.columns[i])\n",
    "    brief_list.append(data_gb[data_gb.columns[i]][0])\n",
    "\n",
    "brief_df = pd.DataFrame(brief_list_col,columns=[\"Property\"])\n",
    "brief_df.insert(1,\"Output\",brief_list,True)\n",
    "brief_df"
   ]
  },
  {
   "cell_type": "code",
   "execution_count": 77,
   "metadata": {},
   "outputs": [],
   "source": [
    "'''\n",
    "Adding json files\n",
    "'''\n",
    "gb_json = pd.read_json('../data/GB_category_id.json')\n",
    "fr_json = pd.read_json('../data/FR_category_id.json')\n",
    "us_json = pd.read_json('../data/US_category_id.json')\n",
    "ru_json = pd.read_json('../data/RU_category_id.json')\n",
    "de_json = pd.read_json('../data/DE_category_id.json')\n",
    "ca_json = pd.read_json('../data/CA_category_id.json')\n",
    "kr_json = pd.read_json('../data/KR_category_id.json')\n",
    "jp_json = pd.read_json('../data/JP_category_id.json')\n",
    "br_json = pd.read_json('../data/BR_category_id.json')\n",
    "mx_json = pd.read_json('../data/MX_category_id.json')"
   ]
  },
  {
   "cell_type": "code",
   "execution_count": 78,
   "metadata": {},
   "outputs": [],
   "source": [
    "'''\n",
    "Defining function to flat json files to get rid of dictionary format for every country\n",
    "'''\n",
    "\n",
    "col_list = [\"items\",\"items_snippet\"]\n",
    "\n",
    "def flat_func(df,column):\n",
    "    for column in col_list:\n",
    "        flatten = pd.DataFrame(dict(df[column])).transpose()\n",
    "        columns = [str(i) for i in flatten.columns]\n",
    "        flatten.columns = [column + \"_\" + str(colname) for colname in columns]\n",
    "        df = pd.concat([df,flatten],axis=1)\n",
    "        df = df.drop(column,axis=1)\n",
    "    return df"
   ]
  },
  {
   "cell_type": "code",
   "execution_count": 79,
   "metadata": {},
   "outputs": [],
   "source": [
    "'''\n",
    "Applying function\n",
    "Creating flat databases\n",
    "'''\n",
    "\n",
    "gb_flat = flat_func(gb_json,col_list)[[\"items_id\",\"items_snippet_title\"]]\n",
    "fr_flat = flat_func(fr_json,col_list)[[\"items_id\",\"items_snippet_title\"]]\n",
    "us_flat = flat_func(us_json,col_list)[[\"items_id\",\"items_snippet_title\"]]\n",
    "ru_flat = flat_func(ru_json,col_list)[[\"items_id\",\"items_snippet_title\"]]\n",
    "de_flat = flat_func(de_json,col_list)[[\"items_id\",\"items_snippet_title\"]]\n",
    "ca_flat = flat_func(ca_json,col_list)[[\"items_id\",\"items_snippet_title\"]]\n",
    "kr_flat = flat_func(kr_json,col_list)[[\"items_id\",\"items_snippet_title\"]]\n",
    "jp_flat = flat_func(jp_json,col_list)[[\"items_id\",\"items_snippet_title\"]]\n",
    "br_flat = flat_func(br_json,col_list)[[\"items_id\",\"items_snippet_title\"]]\n",
    "mx_flat = flat_func(mx_json,col_list)[[\"items_id\",\"items_snippet_title\"]]"
   ]
  },
  {
   "cell_type": "code",
   "execution_count": 80,
   "metadata": {},
   "outputs": [],
   "source": [
    "'''\n",
    "Dropping categoryId 29 for each country\n",
    "'''\n",
    "\n",
    "data_countries = [data_gb,data_fr,data_us,data_ru,data_de,data_ca,data_kr,data_jp,data_br,data_mx]\n",
    "\n",
    "def category_remover(country):\n",
    "    drop_idx = country[country[\"categoryId\"]==29].index\n",
    "    return drop_idx\n",
    "\n",
    "data_gb = data_gb.drop(category_remover(data_gb))\n",
    "data_fr = data_fr.drop(category_remover(data_fr))\n",
    "data_us = data_us.drop(category_remover(data_us))\n",
    "data_ru = data_ru.drop(category_remover(data_ru))\n",
    "data_de = data_de.drop(category_remover(data_de))\n",
    "data_ca = data_ca.drop(category_remover(data_ca))\n",
    "data_kr = data_kr.drop(category_remover(data_kr))\n",
    "data_jp = data_jp.drop(category_remover(data_jp))\n",
    "data_br = data_br.drop(category_remover(data_br))\n",
    "data_mx = data_mx.drop(category_remover(data_mx))"
   ]
  },
  {
   "cell_type": "code",
   "execution_count": 81,
   "metadata": {},
   "outputs": [],
   "source": [
    "'''\n",
    "Creating function to add trend name next to categoryId for every country\n",
    "'''\n",
    "def trend_adder(country_df,country_flat):\n",
    "    trend = []\n",
    "    for trend_id in country_df[\"categoryId\"]:\n",
    "        for i in range(0,len(country_flat)):\n",
    "            if trend_id == int(country_flat[\"items_id\"][i]):\n",
    "                trend.append(country_flat[\"items_snippet_title\"][i])\n",
    "\n",
    "    country_df.insert(6,\"trend\",trend)     "
   ]
  },
  {
   "cell_type": "code",
   "execution_count": 82,
   "metadata": {},
   "outputs": [],
   "source": [
    "'''\n",
    "Applying Function\n",
    "Adding trend column next to categoryId for every country\n",
    "'''\n",
    "trend_order_data_country = [data_gb,data_fr,data_us,data_ru,data_de,\n",
    "                            data_ca,data_kr,data_jp,data_br,data_mx]\n",
    "\n",
    "trend_order_data_flat = [gb_flat,fr_flat,us_flat,ru_flat,de_flat,\n",
    "                         ca_flat,kr_flat,jp_flat,br_flat,mx_flat]\n",
    "\n",
    "for i in range(0,len(trend_order_data_country)):\n",
    "    trend_adder(trend_order_data_country[i],trend_order_data_flat[i])"
   ]
  },
  {
   "cell_type": "code",
   "execution_count": 83,
   "metadata": {},
   "outputs": [],
   "source": [
    "'''\n",
    "Scrapping the most updated row for each link.\n",
    "\n",
    "Not the best way but kinda stuck while trying to retrieve local variables from function so this will\n",
    "give us what we want for now..\n",
    "'''\n",
    "def get_recent_idx(country):\n",
    "    latest_idx = []\n",
    "    for link in np.array(country[\"video_id\"].unique()):\n",
    "        latest_row = country[(country[\"video_id\"] ==\n",
    "                                      link)][[\"view_count\"]].nlargest(1,\"view_count\").index[0]\n",
    "    \n",
    "        latest_idx.append(latest_row)\n",
    "    return country[country.index.isin(latest_idx)]\n",
    "   \n",
    "data_gb_unique = get_recent_idx(data_gb)\n",
    "data_fr_unique = get_recent_idx(data_fr)\n",
    "data_us_unique = get_recent_idx(data_us)\n",
    "data_ru_unique = get_recent_idx(data_ru)\n",
    "data_de_unique = get_recent_idx(data_de)\n",
    "data_ca_unique = get_recent_idx(data_ca)\n",
    "data_kr_unique = get_recent_idx(data_kr)\n",
    "data_jp_unique = get_recent_idx(data_jp)\n",
    "data_br_unique = get_recent_idx(data_br)\n",
    "data_mx_unique = get_recent_idx(data_mx)"
   ]
  },
  {
   "cell_type": "code",
   "execution_count": 84,
   "metadata": {},
   "outputs": [
    {
     "data": {
      "text/html": [
       "<div>\n",
       "<style scoped>\n",
       "    .dataframe tbody tr th:only-of-type {\n",
       "        vertical-align: middle;\n",
       "    }\n",
       "\n",
       "    .dataframe tbody tr th {\n",
       "        vertical-align: top;\n",
       "    }\n",
       "\n",
       "    .dataframe thead th {\n",
       "        text-align: right;\n",
       "    }\n",
       "</style>\n",
       "<table border=\"1\" class=\"dataframe\">\n",
       "  <thead>\n",
       "    <tr style=\"text-align: right;\">\n",
       "      <th></th>\n",
       "      <th>video_id</th>\n",
       "      <th>title</th>\n",
       "      <th>publishedAt</th>\n",
       "      <th>channelId</th>\n",
       "      <th>channelTitle</th>\n",
       "      <th>categoryId</th>\n",
       "      <th>trend</th>\n",
       "      <th>trending_date</th>\n",
       "      <th>tags</th>\n",
       "      <th>view_count</th>\n",
       "      <th>likes</th>\n",
       "      <th>dislikes</th>\n",
       "      <th>comment_count</th>\n",
       "      <th>thumbnail_link</th>\n",
       "      <th>comments_disabled</th>\n",
       "      <th>ratings_disabled</th>\n",
       "      <th>description</th>\n",
       "    </tr>\n",
       "  </thead>\n",
       "  <tbody>\n",
       "    <tr>\n",
       "      <th>25</th>\n",
       "      <td>WGvdHPfwD-k</td>\n",
       "      <td>Wolves v Sevilla (0-1) | UEFA Europa League Hi...</td>\n",
       "      <td>2020-08-11T22:19:01Z</td>\n",
       "      <td>UC4i_9WvfPRTuRWEaWyfKuFw</td>\n",
       "      <td>BT Sport</td>\n",
       "      <td>17</td>\n",
       "      <td>Sports</td>\n",
       "      <td>2020-08-12T00:00:00Z</td>\n",
       "      <td>bt sport|bt sport official|wolves|wolves sevil...</td>\n",
       "      <td>313473</td>\n",
       "      <td>5249</td>\n",
       "      <td>129</td>\n",
       "      <td>1114</td>\n",
       "      <td>https://i.ytimg.com/vi/WGvdHPfwD-k/default.jpg</td>\n",
       "      <td>False</td>\n",
       "      <td>False</td>\n",
       "      <td>Wolves' remarkable Europa League run comes to ...</td>\n",
       "    </tr>\n",
       "    <tr>\n",
       "      <th>36</th>\n",
       "      <td>AdWLrHcnC5I</td>\n",
       "      <td>Shakhtar Donetsk v Basel (4-1) | UEFA Europa L...</td>\n",
       "      <td>2020-08-11T22:56:27Z</td>\n",
       "      <td>UC4i_9WvfPRTuRWEaWyfKuFw</td>\n",
       "      <td>BT Sport</td>\n",
       "      <td>17</td>\n",
       "      <td>Sports</td>\n",
       "      <td>2020-08-12T00:00:00Z</td>\n",
       "      <td>bt sport|bt sport official|bt sport football|b...</td>\n",
       "      <td>156639</td>\n",
       "      <td>2593</td>\n",
       "      <td>47</td>\n",
       "      <td>402</td>\n",
       "      <td>https://i.ytimg.com/vi/AdWLrHcnC5I/default.jpg</td>\n",
       "      <td>False</td>\n",
       "      <td>False</td>\n",
       "      <td>Shakhtar Donetsk set up a Europa League semi-f...</td>\n",
       "    </tr>\n",
       "    <tr>\n",
       "      <th>49</th>\n",
       "      <td>uRUh9Ucr_yg</td>\n",
       "      <td>Manchester United v FC Copenhagen (1-0 after e...</td>\n",
       "      <td>2020-08-10T23:10:13Z</td>\n",
       "      <td>UC4i_9WvfPRTuRWEaWyfKuFw</td>\n",
       "      <td>BT Sport</td>\n",
       "      <td>17</td>\n",
       "      <td>Sports</td>\n",
       "      <td>2020-08-12T00:00:00Z</td>\n",
       "      <td>europa league|man utd copenhagen|man utd highl...</td>\n",
       "      <td>772339</td>\n",
       "      <td>10381</td>\n",
       "      <td>517</td>\n",
       "      <td>2466</td>\n",
       "      <td>https://i.ytimg.com/vi/uRUh9Ucr_yg/default.jpg</td>\n",
       "      <td>False</td>\n",
       "      <td>False</td>\n",
       "      <td>Bruno Fernandes scored the only goal to send M...</td>\n",
       "    </tr>\n",
       "    <tr>\n",
       "      <th>85</th>\n",
       "      <td>KKPDREbthbs</td>\n",
       "      <td>Sancho Dortmund Transfer Update! Man Utd Trans...</td>\n",
       "      <td>2020-08-10T15:58:55Z</td>\n",
       "      <td>UCMmVPVb0BwSIOWVeDwlPocQ</td>\n",
       "      <td>The United Stand</td>\n",
       "      <td>24</td>\n",
       "      <td>Entertainment</td>\n",
       "      <td>2020-08-12T00:00:00Z</td>\n",
       "      <td>Manchester United|Man United|Man Utd|Mancheste...</td>\n",
       "      <td>250885</td>\n",
       "      <td>7319</td>\n",
       "      <td>427</td>\n",
       "      <td>1179</td>\n",
       "      <td>https://i.ytimg.com/vi/KKPDREbthbs/default.jpg</td>\n",
       "      <td>False</td>\n",
       "      <td>False</td>\n",
       "      <td>Dortmund have issued a Jadon Sancho transfer u...</td>\n",
       "    </tr>\n",
       "    <tr>\n",
       "      <th>163</th>\n",
       "      <td>nISQKZmqYo0</td>\n",
       "      <td>Coutinho Agrees Terms &amp; Lacazette Could Be Sol...</td>\n",
       "      <td>2020-08-09T09:04:35Z</td>\n",
       "      <td>UCBTy8j2cPy6zw68godcE7MQ</td>\n",
       "      <td>AFTV</td>\n",
       "      <td>17</td>\n",
       "      <td>Sports</td>\n",
       "      <td>2020-08-12T00:00:00Z</td>\n",
       "      <td>afc|aftv|arsenal|arsenal fan tv|fan cams|arsen...</td>\n",
       "      <td>284154</td>\n",
       "      <td>6871</td>\n",
       "      <td>226</td>\n",
       "      <td>2313</td>\n",
       "      <td>https://i.ytimg.com/vi/nISQKZmqYo0/default.jpg</td>\n",
       "      <td>False</td>\n",
       "      <td>False</td>\n",
       "      <td>Coutinho Agrees Terms &amp; Lacazette Could Be Sol...</td>\n",
       "    </tr>\n",
       "  </tbody>\n",
       "</table>\n",
       "</div>"
      ],
      "text/plain": [
       "        video_id                                              title  \\\n",
       "25   WGvdHPfwD-k  Wolves v Sevilla (0-1) | UEFA Europa League Hi...   \n",
       "36   AdWLrHcnC5I  Shakhtar Donetsk v Basel (4-1) | UEFA Europa L...   \n",
       "49   uRUh9Ucr_yg  Manchester United v FC Copenhagen (1-0 after e...   \n",
       "85   KKPDREbthbs  Sancho Dortmund Transfer Update! Man Utd Trans...   \n",
       "163  nISQKZmqYo0  Coutinho Agrees Terms & Lacazette Could Be Sol...   \n",
       "\n",
       "              publishedAt                 channelId      channelTitle  \\\n",
       "25   2020-08-11T22:19:01Z  UC4i_9WvfPRTuRWEaWyfKuFw          BT Sport   \n",
       "36   2020-08-11T22:56:27Z  UC4i_9WvfPRTuRWEaWyfKuFw          BT Sport   \n",
       "49   2020-08-10T23:10:13Z  UC4i_9WvfPRTuRWEaWyfKuFw          BT Sport   \n",
       "85   2020-08-10T15:58:55Z  UCMmVPVb0BwSIOWVeDwlPocQ  The United Stand   \n",
       "163  2020-08-09T09:04:35Z  UCBTy8j2cPy6zw68godcE7MQ              AFTV   \n",
       "\n",
       "     categoryId          trend         trending_date  \\\n",
       "25           17         Sports  2020-08-12T00:00:00Z   \n",
       "36           17         Sports  2020-08-12T00:00:00Z   \n",
       "49           17         Sports  2020-08-12T00:00:00Z   \n",
       "85           24  Entertainment  2020-08-12T00:00:00Z   \n",
       "163          17         Sports  2020-08-12T00:00:00Z   \n",
       "\n",
       "                                                  tags  view_count  likes  \\\n",
       "25   bt sport|bt sport official|wolves|wolves sevil...      313473   5249   \n",
       "36   bt sport|bt sport official|bt sport football|b...      156639   2593   \n",
       "49   europa league|man utd copenhagen|man utd highl...      772339  10381   \n",
       "85   Manchester United|Man United|Man Utd|Mancheste...      250885   7319   \n",
       "163  afc|aftv|arsenal|arsenal fan tv|fan cams|arsen...      284154   6871   \n",
       "\n",
       "     dislikes  comment_count                                  thumbnail_link  \\\n",
       "25        129           1114  https://i.ytimg.com/vi/WGvdHPfwD-k/default.jpg   \n",
       "36         47            402  https://i.ytimg.com/vi/AdWLrHcnC5I/default.jpg   \n",
       "49        517           2466  https://i.ytimg.com/vi/uRUh9Ucr_yg/default.jpg   \n",
       "85        427           1179  https://i.ytimg.com/vi/KKPDREbthbs/default.jpg   \n",
       "163       226           2313  https://i.ytimg.com/vi/nISQKZmqYo0/default.jpg   \n",
       "\n",
       "     comments_disabled  ratings_disabled  \\\n",
       "25               False             False   \n",
       "36               False             False   \n",
       "49               False             False   \n",
       "85               False             False   \n",
       "163              False             False   \n",
       "\n",
       "                                           description  \n",
       "25   Wolves' remarkable Europa League run comes to ...  \n",
       "36   Shakhtar Donetsk set up a Europa League semi-f...  \n",
       "49   Bruno Fernandes scored the only goal to send M...  \n",
       "85   Dortmund have issued a Jadon Sancho transfer u...  \n",
       "163  Coutinho Agrees Terms & Lacazette Could Be Sol...  "
      ]
     },
     "execution_count": 84,
     "metadata": {},
     "output_type": "execute_result"
    }
   ],
   "source": [
    "data_gb_unique.head()"
   ]
  },
  {
   "cell_type": "markdown",
   "metadata": {},
   "source": [
    "## Statistical Analysis"
   ]
  },
  {
   "cell_type": "markdown",
   "metadata": {},
   "source": [
    "#### Hypothesis \n",
    "\n",
    "View counts are largely similar for the US and UK\n",
    "\n",
    "H0: mu UK == mu US\n",
    "\n",
    "H1: mu UK != mu US"
   ]
  },
  {
   "cell_type": "code",
   "execution_count": null,
   "metadata": {},
   "outputs": [],
   "source": [
    "\"\"\"\n",
    "First we took a look at the numbers to understand the data set a little better\n",
    "\"\"\""
   ]
  },
  {
   "cell_type": "code",
   "execution_count": 86,
   "metadata": {},
   "outputs": [
    {
     "data": {
      "text/plain": [
       "2128238.6995253745"
      ]
     },
     "execution_count": 86,
     "metadata": {},
     "output_type": "execute_result"
    }
   ],
   "source": [
    "data_gb_unique['view_count'].mean()"
   ]
  },
  {
   "cell_type": "code",
   "execution_count": 87,
   "metadata": {},
   "outputs": [
    {
     "data": {
      "text/plain": [
       "687993.0"
      ]
     },
     "execution_count": 87,
     "metadata": {},
     "output_type": "execute_result"
    }
   ],
   "source": [
    "data_gb_unique['view_count'].median()"
   ]
  },
  {
   "cell_type": "code",
   "execution_count": 88,
   "metadata": {},
   "outputs": [
    {
     "data": {
      "text/plain": [
       "7214438.945745977"
      ]
     },
     "execution_count": 88,
     "metadata": {},
     "output_type": "execute_result"
    }
   ],
   "source": [
    "data_gb_unique['view_count'].std()"
   ]
  },
  {
   "cell_type": "code",
   "execution_count": 89,
   "metadata": {},
   "outputs": [
    {
     "data": {
      "text/plain": [
       "2799942.168212989"
      ]
     },
     "execution_count": 89,
     "metadata": {},
     "output_type": "execute_result"
    }
   ],
   "source": [
    "data_us_unique['view_count'].mean()"
   ]
  },
  {
   "cell_type": "code",
   "execution_count": 90,
   "metadata": {},
   "outputs": [
    {
     "data": {
      "text/plain": [
       "1076658.0"
      ]
     },
     "execution_count": 90,
     "metadata": {},
     "output_type": "execute_result"
    }
   ],
   "source": [
    "data_us_unique['view_count'].median()"
   ]
  },
  {
   "cell_type": "code",
   "execution_count": 91,
   "metadata": {},
   "outputs": [
    {
     "data": {
      "text/plain": [
       "8305210.195639507"
      ]
     },
     "execution_count": 91,
     "metadata": {},
     "output_type": "execute_result"
    }
   ],
   "source": [
    "data_us_unique['view_count'].std()"
   ]
  },
  {
   "cell_type": "code",
   "execution_count": null,
   "metadata": {},
   "outputs": [],
   "source": [
    "\"\"\"\n",
    "We noticed a big difference in the mean and median and suspected this was due to outliers, so we\n",
    "plotted these on a scatter plot.\n",
    "\"\"\""
   ]
  },
  {
   "cell_type": "code",
   "execution_count": 92,
   "metadata": {
    "scrolled": true
   },
   "outputs": [
    {
     "data": {
      "text/plain": [
       "<AxesSubplot:xlabel='video_id', ylabel='view_count'>"
      ]
     },
     "execution_count": 92,
     "metadata": {},
     "output_type": "execute_result"
    },
    {
     "data": {
      "image/png": "[encoded data removed]",
      "text/plain": [
       "<Figure size 432x288 with 1 Axes>"
      ]
     },
     "metadata": {
      "needs_background": "light"
     },
     "output_type": "display_data"
    }
   ],
   "source": [
    "sns.scatterplot(data = data_us_unique, x = 'video_id', y = 'view_count')"
   ]
  },
  {
   "cell_type": "code",
   "execution_count": 94,
   "metadata": {},
   "outputs": [
    {
     "data": {
      "text/plain": [
       "<AxesSubplot:xlabel='video_id', ylabel='view_count'>"
      ]
     },
     "execution_count": 94,
     "metadata": {},
     "output_type": "execute_result"
    },
    {
     "data": {
      "image/png": "[encoded data removed]",
      "text/plain": [
       "<Figure size 432x288 with 1 Axes>"
      ]
     },
     "metadata": {
      "needs_background": "light"
     },
     "output_type": "display_data"
    }
   ],
   "source": [
    "sns.scatterplot(data = data_gb_unique, x = 'video_id', y = 'view_count')"
   ]
  },
  {
   "cell_type": "code",
   "execution_count": null,
   "metadata": {},
   "outputs": [],
   "source": [
    "\"\"\"\n",
    "We removed the top 5 values for both samples as we beleived that these were skewing the data. \n",
    "\"\"\""
   ]
  },
  {
   "cell_type": "code",
   "execution_count": 159,
   "metadata": {},
   "outputs": [
    {
     "data": {
      "text/html": [
       "<div>\n",
       "<style scoped>\n",
       "    .dataframe tbody tr th:only-of-type {\n",
       "        vertical-align: middle;\n",
       "    }\n",
       "\n",
       "    .dataframe tbody tr th {\n",
       "        vertical-align: top;\n",
       "    }\n",
       "\n",
       "    .dataframe thead th {\n",
       "        text-align: right;\n",
       "    }\n",
       "</style>\n",
       "<table border=\"1\" class=\"dataframe\">\n",
       "  <thead>\n",
       "    <tr style=\"text-align: right;\">\n",
       "      <th></th>\n",
       "      <th>index</th>\n",
       "      <th>view_count</th>\n",
       "    </tr>\n",
       "  </thead>\n",
       "  <tbody>\n",
       "    <tr>\n",
       "      <th>0</th>\n",
       "      <td>3358</td>\n",
       "      <td>232649205</td>\n",
       "    </tr>\n",
       "    <tr>\n",
       "      <th>1</th>\n",
       "      <td>4980</td>\n",
       "      <td>184778248</td>\n",
       "    </tr>\n",
       "    <tr>\n",
       "      <th>2</th>\n",
       "      <td>11764</td>\n",
       "      <td>140685439</td>\n",
       "    </tr>\n",
       "    <tr>\n",
       "      <th>3</th>\n",
       "      <td>985</td>\n",
       "      <td>98442414</td>\n",
       "    </tr>\n",
       "    <tr>\n",
       "      <th>4</th>\n",
       "      <td>2762</td>\n",
       "      <td>62496726</td>\n",
       "    </tr>\n",
       "    <tr>\n",
       "      <th>5</th>\n",
       "      <td>11761</td>\n",
       "      <td>49814886</td>\n",
       "    </tr>\n",
       "    <tr>\n",
       "      <th>6</th>\n",
       "      <td>2787</td>\n",
       "      <td>45893190</td>\n",
       "    </tr>\n",
       "    <tr>\n",
       "      <th>7</th>\n",
       "      <td>3992</td>\n",
       "      <td>45596902</td>\n",
       "    </tr>\n",
       "    <tr>\n",
       "      <th>8</th>\n",
       "      <td>2361</td>\n",
       "      <td>45086708</td>\n",
       "    </tr>\n",
       "    <tr>\n",
       "      <th>9</th>\n",
       "      <td>6597</td>\n",
       "      <td>43394819</td>\n",
       "    </tr>\n",
       "  </tbody>\n",
       "</table>\n",
       "</div>"
      ],
      "text/plain": [
       "   index  view_count\n",
       "0   3358   232649205\n",
       "1   4980   184778248\n",
       "2  11764   140685439\n",
       "3    985    98442414\n",
       "4   2762    62496726\n",
       "5  11761    49814886\n",
       "6   2787    45893190\n",
       "7   3992    45596902\n",
       "8   2361    45086708\n",
       "9   6597    43394819"
      ]
     },
     "execution_count": 159,
     "metadata": {},
     "output_type": "execute_result"
    }
   ],
   "source": [
    "data_us_updated = data_us_unique['view_count'].sort_values(ascending = False).reset_index()\n",
    "data_us_updated.head(10)"
   ]
  },
  {
   "cell_type": "code",
   "execution_count": 116,
   "metadata": {},
   "outputs": [
    {
     "data": {
      "text/html": [
       "<div>\n",
       "<style scoped>\n",
       "    .dataframe tbody tr th:only-of-type {\n",
       "        vertical-align: middle;\n",
       "    }\n",
       "\n",
       "    .dataframe tbody tr th {\n",
       "        vertical-align: top;\n",
       "    }\n",
       "\n",
       "    .dataframe thead th {\n",
       "        text-align: right;\n",
       "    }\n",
       "</style>\n",
       "<table border=\"1\" class=\"dataframe\">\n",
       "  <thead>\n",
       "    <tr style=\"text-align: right;\">\n",
       "      <th></th>\n",
       "      <th>index</th>\n",
       "      <th>view_count</th>\n",
       "    </tr>\n",
       "  </thead>\n",
       "  <tbody>\n",
       "    <tr>\n",
       "      <th>5</th>\n",
       "      <td>11761</td>\n",
       "      <td>49814886</td>\n",
       "    </tr>\n",
       "    <tr>\n",
       "      <th>6</th>\n",
       "      <td>2787</td>\n",
       "      <td>45893190</td>\n",
       "    </tr>\n",
       "    <tr>\n",
       "      <th>7</th>\n",
       "      <td>3992</td>\n",
       "      <td>45596902</td>\n",
       "    </tr>\n",
       "  </tbody>\n",
       "</table>\n",
       "</div>"
      ],
      "text/plain": [
       "   index  view_count\n",
       "5  11761    49814886\n",
       "6   2787    45893190\n",
       "7   3992    45596902"
      ]
     },
     "execution_count": 116,
     "metadata": {},
     "output_type": "execute_result"
    }
   ],
   "source": [
    "data_us_updated = data_us_updated.drop(index = [0, 1, 2, 3, 4])\n",
    "data_us_updated.head(3)"
   ]
  },
  {
   "cell_type": "code",
   "execution_count": 160,
   "metadata": {},
   "outputs": [
    {
     "data": {
      "text/html": [
       "<div>\n",
       "<style scoped>\n",
       "    .dataframe tbody tr th:only-of-type {\n",
       "        vertical-align: middle;\n",
       "    }\n",
       "\n",
       "    .dataframe tbody tr th {\n",
       "        vertical-align: top;\n",
       "    }\n",
       "\n",
       "    .dataframe thead th {\n",
       "        text-align: right;\n",
       "    }\n",
       "</style>\n",
       "<table border=\"1\" class=\"dataframe\">\n",
       "  <thead>\n",
       "    <tr style=\"text-align: right;\">\n",
       "      <th></th>\n",
       "      <th>index</th>\n",
       "      <th>view_count</th>\n",
       "    </tr>\n",
       "  </thead>\n",
       "  <tbody>\n",
       "    <tr>\n",
       "      <th>0</th>\n",
       "      <td>2953</td>\n",
       "      <td>208581468</td>\n",
       "    </tr>\n",
       "    <tr>\n",
       "      <th>1</th>\n",
       "      <td>4797</td>\n",
       "      <td>176467113</td>\n",
       "    </tr>\n",
       "    <tr>\n",
       "      <th>2</th>\n",
       "      <td>11361</td>\n",
       "      <td>124180499</td>\n",
       "    </tr>\n",
       "    <tr>\n",
       "      <th>3</th>\n",
       "      <td>799</td>\n",
       "      <td>93935173</td>\n",
       "    </tr>\n",
       "    <tr>\n",
       "      <th>4</th>\n",
       "      <td>2792</td>\n",
       "      <td>62496726</td>\n",
       "    </tr>\n",
       "    <tr>\n",
       "      <th>5</th>\n",
       "      <td>9392</td>\n",
       "      <td>45950142</td>\n",
       "    </tr>\n",
       "    <tr>\n",
       "      <th>6</th>\n",
       "      <td>3994</td>\n",
       "      <td>45596902</td>\n",
       "    </tr>\n",
       "    <tr>\n",
       "      <th>7</th>\n",
       "      <td>6194</td>\n",
       "      <td>37819586</td>\n",
       "    </tr>\n",
       "    <tr>\n",
       "      <th>8</th>\n",
       "      <td>1557</td>\n",
       "      <td>37135897</td>\n",
       "    </tr>\n",
       "    <tr>\n",
       "      <th>9</th>\n",
       "      <td>7732</td>\n",
       "      <td>36413172</td>\n",
       "    </tr>\n",
       "  </tbody>\n",
       "</table>\n",
       "</div>"
      ],
      "text/plain": [
       "   index  view_count\n",
       "0   2953   208581468\n",
       "1   4797   176467113\n",
       "2  11361   124180499\n",
       "3    799    93935173\n",
       "4   2792    62496726\n",
       "5   9392    45950142\n",
       "6   3994    45596902\n",
       "7   6194    37819586\n",
       "8   1557    37135897\n",
       "9   7732    36413172"
      ]
     },
     "execution_count": 160,
     "metadata": {},
     "output_type": "execute_result"
    }
   ],
   "source": [
    "data_gb_updated = data_gb_unique['view_count'].sort_values(ascending = False).reset_index()\n",
    "data_gb_updated.head(10)"
   ]
  },
  {
   "cell_type": "code",
   "execution_count": 118,
   "metadata": {},
   "outputs": [
    {
     "data": {
      "text/html": [
       "<div>\n",
       "<style scoped>\n",
       "    .dataframe tbody tr th:only-of-type {\n",
       "        vertical-align: middle;\n",
       "    }\n",
       "\n",
       "    .dataframe tbody tr th {\n",
       "        vertical-align: top;\n",
       "    }\n",
       "\n",
       "    .dataframe thead th {\n",
       "        text-align: right;\n",
       "    }\n",
       "</style>\n",
       "<table border=\"1\" class=\"dataframe\">\n",
       "  <thead>\n",
       "    <tr style=\"text-align: right;\">\n",
       "      <th></th>\n",
       "      <th>index</th>\n",
       "      <th>view_count</th>\n",
       "    </tr>\n",
       "  </thead>\n",
       "  <tbody>\n",
       "    <tr>\n",
       "      <th>5</th>\n",
       "      <td>9392</td>\n",
       "      <td>45950142</td>\n",
       "    </tr>\n",
       "    <tr>\n",
       "      <th>6</th>\n",
       "      <td>3994</td>\n",
       "      <td>45596902</td>\n",
       "    </tr>\n",
       "    <tr>\n",
       "      <th>7</th>\n",
       "      <td>6194</td>\n",
       "      <td>37819586</td>\n",
       "    </tr>\n",
       "  </tbody>\n",
       "</table>\n",
       "</div>"
      ],
      "text/plain": [
       "   index  view_count\n",
       "5   9392    45950142\n",
       "6   3994    45596902\n",
       "7   6194    37819586"
      ]
     },
     "execution_count": 118,
     "metadata": {},
     "output_type": "execute_result"
    }
   ],
   "source": [
    "data_gb_updated = data_gb_updated.drop(index = [0, 1, 2, 3, 4])\n",
    "data_gb_updated.head(3)"
   ]
  },
  {
   "cell_type": "code",
   "execution_count": null,
   "metadata": {},
   "outputs": [],
   "source": [
    "\"\"\"\n",
    "Next we tested our hypotheses using a t test. \n",
    "\"\"\""
   ]
  },
  {
   "cell_type": "code",
   "execution_count": 119,
   "metadata": {},
   "outputs": [
    {
     "data": {
      "text/plain": [
       "Ttest_indResult(statistic=2.25901750823955, pvalue=0.06572079810759457)"
      ]
     },
     "execution_count": 119,
     "metadata": {},
     "output_type": "execute_result"
    }
   ],
   "source": [
    "from scipy.stats import ttest_ind\n",
    "\n",
    "ttest_ind(data_us_updated['view_count'], data_gb_updated['view_count'], equal_var=False)"
   ]
  },
  {
   "cell_type": "markdown",
   "metadata": {},
   "source": [
    "We concluded that because our P value is much smaller than critical alpha value (0.05), we could reject our null hypothesis and assume that the average number of views for a video in the US is statistically different from in the UK. "
   ]
  },
  {
   "cell_type": "code",
   "execution_count": null,
   "metadata": {},
   "outputs": [],
   "source": []
  },
  {
   "cell_type": "markdown",
   "metadata": {},
   "source": [
    "#### Hypothesis \n",
    "\n",
    "The average number of likes on a trending video is greater than 200k \n",
    "\n",
    "H0: mean == 200k\n",
    "H1: mean >200k "
   ]
  },
  {
   "cell_type": "code",
   "execution_count": null,
   "metadata": {},
   "outputs": [],
   "source": [
    "\"\"\"\n",
    "First we cleaned the data\n",
    "\"\"\""
   ]
  },
  {
   "cell_type": "code",
   "execution_count": null,
   "metadata": {},
   "outputs": [],
   "source": [
    "us_likes = data_us_unique['likes']"
   ]
  },
  {
   "cell_type": "code",
   "execution_count": null,
   "metadata": {},
   "outputs": [],
   "source": [
    "\"\"\"\n",
    "Then we set our terms and tested the hypothesis. \n",
    "\"\"\""
   ]
  },
  {
   "cell_type": "code",
   "execution_count": null,
   "metadata": {},
   "outputs": [],
   "source": [
    "alpha = 0.05"
   ]
  },
  {
   "cell_type": "code",
   "execution_count": 161,
   "metadata": {},
   "outputs": [
    {
     "data": {
      "text/plain": [
       "156722.9039935458"
      ]
     },
     "execution_count": 161,
     "metadata": {},
     "output_type": "execute_result"
    }
   ],
   "source": [
    "us_likes.mean()"
   ]
  },
  {
   "cell_type": "code",
   "execution_count": 162,
   "metadata": {},
   "outputs": [
    {
     "data": {
      "text/plain": [
       "552001.2496020874"
      ]
     },
     "execution_count": 162,
     "metadata": {},
     "output_type": "execute_result"
    }
   ],
   "source": [
    "us_likes.std()"
   ]
  },
  {
   "cell_type": "code",
   "execution_count": null,
   "metadata": {},
   "outputs": [],
   "source": [
    "mu = 200000\n",
    "x_bar = us_likes.mean()\n",
    "sigma = us_likes.std()\n",
    "marg_error = sigma / len(us_likes)"
   ]
  },
  {
   "cell_type": "code",
   "execution_count": null,
   "metadata": {},
   "outputs": [],
   "source": [
    "z = (x_bar - mu) / marg_error\n",
    "print(z)"
   ]
  },
  {
   "cell_type": "code",
   "execution_count": null,
   "metadata": {},
   "outputs": [],
   "source": [
    "from scipy.stats import norm\n"
   ]
  },
  {
   "cell_type": "code",
   "execution_count": null,
   "metadata": {},
   "outputs": [],
   "source": [
    "p = norm.cdf(z)\n",
    "print(1 - p)\n",
    "p"
   ]
  },
  {
   "cell_type": "code",
   "execution_count": null,
   "metadata": {},
   "outputs": [],
   "source": [
    "\"\"\"\n",
    "A p value of 0 seemed strange, so we tested this again\"\"\"\n",
    "p_values = scipy.stats.norm.sf(abs(z))\n",
    "p_values"
   ]
  },
  {
   "cell_type": "markdown",
   "metadata": {},
   "source": [
    "A p value of zero means null hypothesis can be rejected and therefore we can assume mean is greater than 200k for likes. However, we recognise that a p value of zero is almost imopssible in the real world and this hypothesis doesn't really tell us anything meaningful. "
   ]
  },
  {
   "cell_type": "markdown",
   "metadata": {},
   "source": [
    "#### Confidence Intervals"
   ]
  },
  {
   "cell_type": "code",
   "execution_count": null,
   "metadata": {},
   "outputs": [],
   "source": [
    "\"\"\"\n",
    "Next we decided to use confidence intervals to determine the mean of our data. \n",
    "\"\"\""
   ]
  },
  {
   "cell_type": "code",
   "execution_count": 26,
   "metadata": {},
   "outputs": [
    {
     "name": "stdout",
     "output_type": "stream",
     "text": [
      "With 95% confidence, the true mean lies in the inverval: [134982.77747488924, 178463.03051220236]\n"
     ]
    }
   ],
   "source": [
    "us_likes\n",
    "us_likes_stdev = us_likes.std()\n",
    "degree_freedom = len(us_likes) - 1\n",
    "t = stats.t.interval(0.95, degree_freedom)[1]\n",
    "\n",
    "# Terms\n",
    "mean = us_likes.mean()\n",
    "std_sample = np.sqrt(abs(np.sum((us_likes - mean)**2) / (1-len(us_likes))))\n",
    "marg_of_error = std_sample / np.sqrt(len(us_likes))\n",
    "con_int = [mean - (t * marg_of_error) , mean + (t * marg_of_error)]\n",
    "\n",
    "print('With 95% confidence, the true mean lies in the inverval:', con_int)\n",
    "\n",
    "#add the middle point"
   ]
  },
  {
   "cell_type": "code",
   "execution_count": null,
   "metadata": {},
   "outputs": [],
   "source": [
    "\"\"\"\n",
    "Finally, we decided to test another hypothesis related to engagement between countries\n",
    "\"\"\""
   ]
  },
  {
   "cell_type": "markdown",
   "metadata": {},
   "source": [
    "Sports engagement in the US is similar to the UK\n",
    "\n",
    "\n",
    "H0: avg likes US Sports != avg likes UK\n",
    "\n",
    "H1: avg likes US Sports == avg likes UK"
   ]
  },
  {
   "cell_type": "code",
   "execution_count": null,
   "metadata": {},
   "outputs": [],
   "source": [
    "\"\"\"\n",
    "We spent some time cleaning the data and removing outliers as before\n",
    "\"\"\""
   ]
  },
  {
   "cell_type": "code",
   "execution_count": 146,
   "metadata": {},
   "outputs": [
    {
     "data": {
      "text/html": [
       "<div>\n",
       "<style scoped>\n",
       "    .dataframe tbody tr th:only-of-type {\n",
       "        vertical-align: middle;\n",
       "    }\n",
       "\n",
       "    .dataframe tbody tr th {\n",
       "        vertical-align: top;\n",
       "    }\n",
       "\n",
       "    .dataframe thead th {\n",
       "        text-align: right;\n",
       "    }\n",
       "</style>\n",
       "<table border=\"1\" class=\"dataframe\">\n",
       "  <thead>\n",
       "    <tr style=\"text-align: right;\">\n",
       "      <th></th>\n",
       "      <th>trend</th>\n",
       "      <th>view_count</th>\n",
       "    </tr>\n",
       "  </thead>\n",
       "  <tbody>\n",
       "    <tr>\n",
       "      <th>3341</th>\n",
       "      <td>Sports</td>\n",
       "      <td>29422403</td>\n",
       "    </tr>\n",
       "    <tr>\n",
       "      <th>4198</th>\n",
       "      <td>Sports</td>\n",
       "      <td>17540334</td>\n",
       "    </tr>\n",
       "    <tr>\n",
       "      <th>2769</th>\n",
       "      <td>Sports</td>\n",
       "      <td>16562100</td>\n",
       "    </tr>\n",
       "    <tr>\n",
       "      <th>9798</th>\n",
       "      <td>Sports</td>\n",
       "      <td>11702426</td>\n",
       "    </tr>\n",
       "    <tr>\n",
       "      <th>5589</th>\n",
       "      <td>Sports</td>\n",
       "      <td>9038619</td>\n",
       "    </tr>\n",
       "    <tr>\n",
       "      <th>11643</th>\n",
       "      <td>Sports</td>\n",
       "      <td>8921267</td>\n",
       "    </tr>\n",
       "    <tr>\n",
       "      <th>10775</th>\n",
       "      <td>Sports</td>\n",
       "      <td>8222308</td>\n",
       "    </tr>\n",
       "    <tr>\n",
       "      <th>9180</th>\n",
       "      <td>Sports</td>\n",
       "      <td>7437813</td>\n",
       "    </tr>\n",
       "    <tr>\n",
       "      <th>6567</th>\n",
       "      <td>Sports</td>\n",
       "      <td>7327693</td>\n",
       "    </tr>\n",
       "    <tr>\n",
       "      <th>11738</th>\n",
       "      <td>Sports</td>\n",
       "      <td>5567537</td>\n",
       "    </tr>\n",
       "  </tbody>\n",
       "</table>\n",
       "</div>"
      ],
      "text/plain": [
       "        trend  view_count\n",
       "3341   Sports    29422403\n",
       "4198   Sports    17540334\n",
       "2769   Sports    16562100\n",
       "9798   Sports    11702426\n",
       "5589   Sports     9038619\n",
       "11643  Sports     8921267\n",
       "10775  Sports     8222308\n",
       "9180   Sports     7437813\n",
       "6567   Sports     7327693\n",
       "11738  Sports     5567537"
      ]
     },
     "execution_count": 146,
     "metadata": {},
     "output_type": "execute_result"
    }
   ],
   "source": [
    "data_us_sport = data_us_unique[['trend', 'view_count']]\n",
    "data_us_sport = data_us_sport[data_us_sport['trend']== 'Sports']\n",
    "data_us_sport = data_us_sport.sort_values('view_count', ascending = False)\n",
    "data_us_sport.head(10)\n"
   ]
  },
  {
   "cell_type": "code",
   "execution_count": 147,
   "metadata": {},
   "outputs": [
    {
     "data": {
      "text/plain": [
       "<AxesSubplot:>"
      ]
     },
     "execution_count": 147,
     "metadata": {},
     "output_type": "execute_result"
    },
    {
     "data": {
      "image/png": "[encoded data removed]",
      "text/plain": [
       "<Figure size 432x288 with 1 Axes>"
      ]
     },
     "metadata": {
      "needs_background": "light"
     },
     "output_type": "display_data"
    }
   ],
   "source": [
    "sns.scatterplot(data = data_us_sport)"
   ]
  },
  {
   "cell_type": "code",
   "execution_count": 151,
   "metadata": {},
   "outputs": [
    {
     "data": {
      "text/html": [
       "<div>\n",
       "<style scoped>\n",
       "    .dataframe tbody tr th:only-of-type {\n",
       "        vertical-align: middle;\n",
       "    }\n",
       "\n",
       "    .dataframe tbody tr th {\n",
       "        vertical-align: top;\n",
       "    }\n",
       "\n",
       "    .dataframe thead th {\n",
       "        text-align: right;\n",
       "    }\n",
       "</style>\n",
       "<table border=\"1\" class=\"dataframe\">\n",
       "  <thead>\n",
       "    <tr style=\"text-align: right;\">\n",
       "      <th></th>\n",
       "      <th>index</th>\n",
       "      <th>trend</th>\n",
       "      <th>view_count</th>\n",
       "    </tr>\n",
       "  </thead>\n",
       "  <tbody>\n",
       "    <tr>\n",
       "      <th>4</th>\n",
       "      <td>5589</td>\n",
       "      <td>Sports</td>\n",
       "      <td>9038619</td>\n",
       "    </tr>\n",
       "    <tr>\n",
       "      <th>5</th>\n",
       "      <td>11643</td>\n",
       "      <td>Sports</td>\n",
       "      <td>8921267</td>\n",
       "    </tr>\n",
       "    <tr>\n",
       "      <th>6</th>\n",
       "      <td>10775</td>\n",
       "      <td>Sports</td>\n",
       "      <td>8222308</td>\n",
       "    </tr>\n",
       "    <tr>\n",
       "      <th>7</th>\n",
       "      <td>9180</td>\n",
       "      <td>Sports</td>\n",
       "      <td>7437813</td>\n",
       "    </tr>\n",
       "    <tr>\n",
       "      <th>8</th>\n",
       "      <td>6567</td>\n",
       "      <td>Sports</td>\n",
       "      <td>7327693</td>\n",
       "    </tr>\n",
       "    <tr>\n",
       "      <th>9</th>\n",
       "      <td>11738</td>\n",
       "      <td>Sports</td>\n",
       "      <td>5567537</td>\n",
       "    </tr>\n",
       "    <tr>\n",
       "      <th>10</th>\n",
       "      <td>2971</td>\n",
       "      <td>Sports</td>\n",
       "      <td>5298383</td>\n",
       "    </tr>\n",
       "    <tr>\n",
       "      <th>11</th>\n",
       "      <td>6595</td>\n",
       "      <td>Sports</td>\n",
       "      <td>4804731</td>\n",
       "    </tr>\n",
       "    <tr>\n",
       "      <th>12</th>\n",
       "      <td>9155</td>\n",
       "      <td>Sports</td>\n",
       "      <td>4794760</td>\n",
       "    </tr>\n",
       "    <tr>\n",
       "      <th>13</th>\n",
       "      <td>11774</td>\n",
       "      <td>Sports</td>\n",
       "      <td>4205199</td>\n",
       "    </tr>\n",
       "  </tbody>\n",
       "</table>\n",
       "</div>"
      ],
      "text/plain": [
       "    index   trend  view_count\n",
       "4    5589  Sports     9038619\n",
       "5   11643  Sports     8921267\n",
       "6   10775  Sports     8222308\n",
       "7    9180  Sports     7437813\n",
       "8    6567  Sports     7327693\n",
       "9   11738  Sports     5567537\n",
       "10   2971  Sports     5298383\n",
       "11   6595  Sports     4804731\n",
       "12   9155  Sports     4794760\n",
       "13  11774  Sports     4205199"
      ]
     },
     "execution_count": 151,
     "metadata": {},
     "output_type": "execute_result"
    }
   ],
   "source": [
    "data_us_sport_updated = data_us_sport.reset_index()\n",
    "data_us_sport_updated = data_us_sport_updated.drop(index = [0, 1, 2, 3])\n",
    "data_us_sport_updated.head(10)"
   ]
  },
  {
   "cell_type": "code",
   "execution_count": 152,
   "metadata": {},
   "outputs": [
    {
     "data": {
      "text/html": [
       "<div>\n",
       "<style scoped>\n",
       "    .dataframe tbody tr th:only-of-type {\n",
       "        vertical-align: middle;\n",
       "    }\n",
       "\n",
       "    .dataframe tbody tr th {\n",
       "        vertical-align: top;\n",
       "    }\n",
       "\n",
       "    .dataframe thead th {\n",
       "        text-align: right;\n",
       "    }\n",
       "</style>\n",
       "<table border=\"1\" class=\"dataframe\">\n",
       "  <thead>\n",
       "    <tr style=\"text-align: right;\">\n",
       "      <th></th>\n",
       "      <th>trend</th>\n",
       "      <th>view_count</th>\n",
       "    </tr>\n",
       "  </thead>\n",
       "  <tbody>\n",
       "    <tr>\n",
       "      <th>3966</th>\n",
       "      <td>Sports</td>\n",
       "      <td>17063026</td>\n",
       "    </tr>\n",
       "    <tr>\n",
       "      <th>2575</th>\n",
       "      <td>Sports</td>\n",
       "      <td>15791351</td>\n",
       "    </tr>\n",
       "    <tr>\n",
       "      <th>9585</th>\n",
       "      <td>Sports</td>\n",
       "      <td>11329588</td>\n",
       "    </tr>\n",
       "    <tr>\n",
       "      <th>11677</th>\n",
       "      <td>Sports</td>\n",
       "      <td>8921267</td>\n",
       "    </tr>\n",
       "    <tr>\n",
       "      <th>7735</th>\n",
       "      <td>Sports</td>\n",
       "      <td>8914786</td>\n",
       "    </tr>\n",
       "    <tr>\n",
       "      <th>5386</th>\n",
       "      <td>Sports</td>\n",
       "      <td>8844818</td>\n",
       "    </tr>\n",
       "    <tr>\n",
       "      <th>10547</th>\n",
       "      <td>Sports</td>\n",
       "      <td>8106286</td>\n",
       "    </tr>\n",
       "    <tr>\n",
       "      <th>9166</th>\n",
       "      <td>Sports</td>\n",
       "      <td>7437813</td>\n",
       "    </tr>\n",
       "    <tr>\n",
       "      <th>4594</th>\n",
       "      <td>Sports</td>\n",
       "      <td>6615381</td>\n",
       "    </tr>\n",
       "    <tr>\n",
       "      <th>1792</th>\n",
       "      <td>Sports</td>\n",
       "      <td>4917324</td>\n",
       "    </tr>\n",
       "  </tbody>\n",
       "</table>\n",
       "</div>"
      ],
      "text/plain": [
       "        trend  view_count\n",
       "3966   Sports    17063026\n",
       "2575   Sports    15791351\n",
       "9585   Sports    11329588\n",
       "11677  Sports     8921267\n",
       "7735   Sports     8914786\n",
       "5386   Sports     8844818\n",
       "10547  Sports     8106286\n",
       "9166   Sports     7437813\n",
       "4594   Sports     6615381\n",
       "1792   Sports     4917324"
      ]
     },
     "execution_count": 152,
     "metadata": {},
     "output_type": "execute_result"
    }
   ],
   "source": [
    "data_gb_sport = data_gb_unique[['trend', 'view_count']]\n",
    "data_gb_sport = data_gb_sport[data_gb_sport['trend']== 'Sports']\n",
    "data_gb_sport = data_gb_sport.sort_values('view_count', ascending = False)\n",
    "data_gb_sport.head(10)\n",
    "\n"
   ]
  },
  {
   "cell_type": "code",
   "execution_count": 153,
   "metadata": {},
   "outputs": [
    {
     "data": {
      "text/plain": [
       "<AxesSubplot:>"
      ]
     },
     "execution_count": 153,
     "metadata": {},
     "output_type": "execute_result"
    },
    {
     "data": {
      "image/png": "[encoded data removed]",
      "text/plain": [
       "<Figure size 432x288 with 1 Axes>"
      ]
     },
     "metadata": {
      "needs_background": "light"
     },
     "output_type": "display_data"
    }
   ],
   "source": [
    "sns.scatterplot(data = data_gb_sport)"
   ]
  },
  {
   "cell_type": "code",
   "execution_count": 154,
   "metadata": {},
   "outputs": [
    {
     "data": {
      "text/html": [
       "<div>\n",
       "<style scoped>\n",
       "    .dataframe tbody tr th:only-of-type {\n",
       "        vertical-align: middle;\n",
       "    }\n",
       "\n",
       "    .dataframe tbody tr th {\n",
       "        vertical-align: top;\n",
       "    }\n",
       "\n",
       "    .dataframe thead th {\n",
       "        text-align: right;\n",
       "    }\n",
       "</style>\n",
       "<table border=\"1\" class=\"dataframe\">\n",
       "  <thead>\n",
       "    <tr style=\"text-align: right;\">\n",
       "      <th></th>\n",
       "      <th>index</th>\n",
       "      <th>trend</th>\n",
       "      <th>view_count</th>\n",
       "    </tr>\n",
       "  </thead>\n",
       "  <tbody>\n",
       "    <tr>\n",
       "      <th>4</th>\n",
       "      <td>5589</td>\n",
       "      <td>Sports</td>\n",
       "      <td>9038619</td>\n",
       "    </tr>\n",
       "    <tr>\n",
       "      <th>5</th>\n",
       "      <td>11643</td>\n",
       "      <td>Sports</td>\n",
       "      <td>8921267</td>\n",
       "    </tr>\n",
       "    <tr>\n",
       "      <th>6</th>\n",
       "      <td>10775</td>\n",
       "      <td>Sports</td>\n",
       "      <td>8222308</td>\n",
       "    </tr>\n",
       "    <tr>\n",
       "      <th>7</th>\n",
       "      <td>9180</td>\n",
       "      <td>Sports</td>\n",
       "      <td>7437813</td>\n",
       "    </tr>\n",
       "    <tr>\n",
       "      <th>8</th>\n",
       "      <td>6567</td>\n",
       "      <td>Sports</td>\n",
       "      <td>7327693</td>\n",
       "    </tr>\n",
       "    <tr>\n",
       "      <th>9</th>\n",
       "      <td>11738</td>\n",
       "      <td>Sports</td>\n",
       "      <td>5567537</td>\n",
       "    </tr>\n",
       "    <tr>\n",
       "      <th>10</th>\n",
       "      <td>2971</td>\n",
       "      <td>Sports</td>\n",
       "      <td>5298383</td>\n",
       "    </tr>\n",
       "    <tr>\n",
       "      <th>11</th>\n",
       "      <td>6595</td>\n",
       "      <td>Sports</td>\n",
       "      <td>4804731</td>\n",
       "    </tr>\n",
       "    <tr>\n",
       "      <th>12</th>\n",
       "      <td>9155</td>\n",
       "      <td>Sports</td>\n",
       "      <td>4794760</td>\n",
       "    </tr>\n",
       "    <tr>\n",
       "      <th>13</th>\n",
       "      <td>11774</td>\n",
       "      <td>Sports</td>\n",
       "      <td>4205199</td>\n",
       "    </tr>\n",
       "  </tbody>\n",
       "</table>\n",
       "</div>"
      ],
      "text/plain": [
       "    index   trend  view_count\n",
       "4    5589  Sports     9038619\n",
       "5   11643  Sports     8921267\n",
       "6   10775  Sports     8222308\n",
       "7    9180  Sports     7437813\n",
       "8    6567  Sports     7327693\n",
       "9   11738  Sports     5567537\n",
       "10   2971  Sports     5298383\n",
       "11   6595  Sports     4804731\n",
       "12   9155  Sports     4794760\n",
       "13  11774  Sports     4205199"
      ]
     },
     "execution_count": 154,
     "metadata": {},
     "output_type": "execute_result"
    }
   ],
   "source": [
    "data_gb_sport_updated = data_gb_sport.reset_index()\n",
    "data_gb_sport_updated = data_gb_sport_updated.drop(index = [0, 1, 2])\n",
    "data_us_sport_updated.head(10)"
   ]
  },
  {
   "cell_type": "code",
   "execution_count": 155,
   "metadata": {},
   "outputs": [
    {
     "data": {
      "text/plain": [
       "Ttest_indResult(statistic=6.855485285286144, pvalue=1.7266361261707462e-11)"
      ]
     },
     "execution_count": 155,
     "metadata": {},
     "output_type": "execute_result"
    }
   ],
   "source": [
    "ttest_ind(data_us_sport_updated['view_count'], data_gb_sport_updated['view_count'], equal_var=False)"
   ]
  },
  {
   "cell_type": "markdown",
   "metadata": {},
   "source": [
    "P value is much smaller than the critical alpha value so we can reject the null hypothesis\n",
    "Assume therefore that sports engagement is statisticall similar in the UK and US."
   ]
  },
  {
   "cell_type": "code",
   "execution_count": 156,
   "metadata": {},
   "outputs": [
    {
     "data": {
      "text/plain": [
       "1351870.697740113"
      ]
     },
     "execution_count": 156,
     "metadata": {},
     "output_type": "execute_result"
    }
   ],
   "source": [
    "data_us_sport_updated['view_count'].mean()"
   ]
  },
  {
   "cell_type": "code",
   "execution_count": 157,
   "metadata": {},
   "outputs": [
    {
     "data": {
      "text/plain": [
       "802952.4208144796"
      ]
     },
     "execution_count": 157,
     "metadata": {},
     "output_type": "execute_result"
    }
   ],
   "source": [
    "data_gb_sport_updated['view_count'].mean()"
   ]
  },
  {
   "cell_type": "code",
   "execution_count": null,
   "metadata": {},
   "outputs": [],
   "source": []
  }
 ],
 "metadata": {
  "kernelspec": {
   "display_name": "Python 3",
   "language": "python",
   "name": "python3"
  },
  "language_info": {
   "codemirror_mode": {
    "name": "ipython",
    "version": 3
   },
   "file_extension": ".py",
   "mimetype": "text/x-python",
   "name": "python",
   "nbconvert_exporter": "python",
   "pygments_lexer": "ipython3",
   "version": "3.8.2"
  }
 },
 "nbformat": 4,
 "nbformat_minor": 4
}
