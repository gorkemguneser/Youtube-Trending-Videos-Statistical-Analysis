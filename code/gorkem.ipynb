{
 "cells": [
  {
   "cell_type": "markdown",
   "metadata": {},
   "source": [
    "# YouTube Trending Videos Statistical Analysis"
   ]
  },
  {
   "cell_type": "markdown",
   "metadata": {},
   "source": [
    "## INTRODUCTION"
   ]
  },
  {
   "cell_type": "markdown",
   "metadata": {},
   "source": [
    "#### to be edited</b>\n",
    "<b>https://www.kaggle.com/rsrishav/youtube-trending-video-dataset"
   ]
  },
  {
   "cell_type": "code",
   "execution_count": 1,
   "metadata": {},
   "outputs": [],
   "source": [
    "# Importing libraries\n",
    "import math\n",
    "import pandas as pd\n",
    "import numpy as np\n",
    "import matplotlib.pyplot as plt\n",
    "import seaborn as sns\n",
    "import scipy\n",
    "from scipy import stats\n",
    "from scipy.stats import norm\n",
    "from scipy.stats import t\n",
    "from scipy.stats import ttest_1samp\n",
    "\n",
    "%matplotlib inline"
   ]
  },
  {
   "cell_type": "code",
   "execution_count": 2,
   "metadata": {},
   "outputs": [],
   "source": [
    "'''\n",
    "Later on we can also remove the ones we wouldn't use\n",
    "'''\n",
    "# Importing dataset\n",
    "data_gb = pd.read_csv(\"../data/GB_youtube_trending_data.csv\",sep=\",\")  #uk  \n",
    "data_fr = pd.read_csv(\"../data/FR_youtube_trending_data.csv\",sep=\",\")  #france\n",
    "data_us = pd.read_csv(\"../data/US_youtube_trending_data.csv\",sep=\",\")  #usa \n",
    "data_ru = pd.read_csv(\"../data/RU_youtube_trending_data.csv\",sep=\",\")  #russia\n",
    "data_de = pd.read_csv(\"../data/DE_youtube_trending_data.csv\",sep=\",\")  #germany \n",
    "data_ca = pd.read_csv(\"../data/CA_youtube_trending_data.csv\",sep=\",\")  #canada   \n",
    "data_kr = pd.read_csv(\"../data/KR_youtube_trending_data.csv\",sep=\",\")  #southkorea   \n",
    "data_jp = pd.read_csv(\"../data/JP_youtube_trending_data.csv\",sep=\",\")  #japan\n",
    "data_br = pd.read_csv(\"../data/BR_youtube_trending_data.csv\",sep=\",\")  #brazil\n",
    "data_mx = pd.read_csv(\"../data/MX_youtube_trending_data.csv\",sep=\",\")  #mexico"
   ]
  },
  {
   "cell_type": "code",
   "execution_count": 3,
   "metadata": {
    "scrolled": true
   },
   "outputs": [
    {
     "data": {
      "text/html": [
       "<div>\n",
       "<style scoped>\n",
       "    .dataframe tbody tr th:only-of-type {\n",
       "        vertical-align: middle;\n",
       "    }\n",
       "\n",
       "    .dataframe tbody tr th {\n",
       "        vertical-align: top;\n",
       "    }\n",
       "\n",
       "    .dataframe thead th {\n",
       "        text-align: right;\n",
       "    }\n",
       "</style>\n",
       "<table border=\"1\" class=\"dataframe\">\n",
       "  <thead>\n",
       "    <tr style=\"text-align: right;\">\n",
       "      <th></th>\n",
       "      <th>Property</th>\n",
       "      <th>Output</th>\n",
       "    </tr>\n",
       "  </thead>\n",
       "  <tbody>\n",
       "    <tr>\n",
       "      <th>0</th>\n",
       "      <td>video_id</td>\n",
       "      <td>J78aPJ3VyNs</td>\n",
       "    </tr>\n",
       "    <tr>\n",
       "      <th>1</th>\n",
       "      <td>title</td>\n",
       "      <td>I left youtube for a month and THIS is what ha...</td>\n",
       "    </tr>\n",
       "    <tr>\n",
       "      <th>2</th>\n",
       "      <td>publishedAt</td>\n",
       "      <td>2020-08-11T16:34:06Z</td>\n",
       "    </tr>\n",
       "    <tr>\n",
       "      <th>3</th>\n",
       "      <td>channelId</td>\n",
       "      <td>UCYzPXprvl5Y-Sf0g4vX-m6g</td>\n",
       "    </tr>\n",
       "    <tr>\n",
       "      <th>4</th>\n",
       "      <td>channelTitle</td>\n",
       "      <td>jacksepticeye</td>\n",
       "    </tr>\n",
       "    <tr>\n",
       "      <th>5</th>\n",
       "      <td>categoryId</td>\n",
       "      <td>24</td>\n",
       "    </tr>\n",
       "    <tr>\n",
       "      <th>6</th>\n",
       "      <td>trending_date</td>\n",
       "      <td>2020-08-12T00:00:00Z</td>\n",
       "    </tr>\n",
       "    <tr>\n",
       "      <th>7</th>\n",
       "      <td>tags</td>\n",
       "      <td>jacksepticeye|funny|funny meme|memes|jacksepti...</td>\n",
       "    </tr>\n",
       "    <tr>\n",
       "      <th>8</th>\n",
       "      <td>view_count</td>\n",
       "      <td>2038853</td>\n",
       "    </tr>\n",
       "    <tr>\n",
       "      <th>9</th>\n",
       "      <td>likes</td>\n",
       "      <td>353790</td>\n",
       "    </tr>\n",
       "    <tr>\n",
       "      <th>10</th>\n",
       "      <td>dislikes</td>\n",
       "      <td>2628</td>\n",
       "    </tr>\n",
       "    <tr>\n",
       "      <th>11</th>\n",
       "      <td>comment_count</td>\n",
       "      <td>40228</td>\n",
       "    </tr>\n",
       "    <tr>\n",
       "      <th>12</th>\n",
       "      <td>thumbnail_link</td>\n",
       "      <td>https://i.ytimg.com/vi/J78aPJ3VyNs/default.jpg</td>\n",
       "    </tr>\n",
       "    <tr>\n",
       "      <th>13</th>\n",
       "      <td>comments_disabled</td>\n",
       "      <td>False</td>\n",
       "    </tr>\n",
       "    <tr>\n",
       "      <th>14</th>\n",
       "      <td>ratings_disabled</td>\n",
       "      <td>False</td>\n",
       "    </tr>\n",
       "    <tr>\n",
       "      <th>15</th>\n",
       "      <td>description</td>\n",
       "      <td>I left youtube for a month and this is what ha...</td>\n",
       "    </tr>\n",
       "  </tbody>\n",
       "</table>\n",
       "</div>"
      ],
      "text/plain": [
       "             Property                                             Output\n",
       "0            video_id                                        J78aPJ3VyNs\n",
       "1               title  I left youtube for a month and THIS is what ha...\n",
       "2         publishedAt                               2020-08-11T16:34:06Z\n",
       "3           channelId                           UCYzPXprvl5Y-Sf0g4vX-m6g\n",
       "4        channelTitle                                      jacksepticeye\n",
       "5          categoryId                                                 24\n",
       "6       trending_date                               2020-08-12T00:00:00Z\n",
       "7                tags  jacksepticeye|funny|funny meme|memes|jacksepti...\n",
       "8          view_count                                            2038853\n",
       "9               likes                                             353790\n",
       "10           dislikes                                               2628\n",
       "11      comment_count                                              40228\n",
       "12     thumbnail_link     https://i.ytimg.com/vi/J78aPJ3VyNs/default.jpg\n",
       "13  comments_disabled                                              False\n",
       "14   ratings_disabled                                              False\n",
       "15        description  I left youtube for a month and this is what ha..."
      ]
     },
     "execution_count": 3,
     "metadata": {},
     "output_type": "execute_result"
    }
   ],
   "source": [
    "'''\n",
    "This can stay for now to easily see what are our properties in the dataset. We can delete it once\n",
    "we are familiar with the dataset\n",
    "'''\n",
    "brief_list_col = []\n",
    "brief_list = []\n",
    "\n",
    "for i in range(0,len(data_gb.columns)):\n",
    "    brief_list_col.append(data_gb.columns[i])\n",
    "    brief_list.append(data_gb[data_gb.columns[i]][0])\n",
    "\n",
    "brief_df = pd.DataFrame(brief_list_col,columns=[\"Property\"])\n",
    "brief_df.insert(1,\"Output\",brief_list,True)\n",
    "brief_df"
   ]
  },
  {
   "cell_type": "markdown",
   "metadata": {},
   "source": [
    "                                       **INDIVIDUAL PARTS**"
   ]
  },
  {
   "cell_type": "markdown",
   "metadata": {},
   "source": [
    "### Data Wrangling"
   ]
  },
  {
   "cell_type": "code",
   "execution_count": 4,
   "metadata": {},
   "outputs": [],
   "source": [
    "# Adding json file\n",
    "gb_json = pd.read_json('../data/GB_category_id.json')"
   ]
  },
  {
   "cell_type": "code",
   "execution_count": 5,
   "metadata": {},
   "outputs": [],
   "source": [
    "# Flattening json file to get rid of dict format\n",
    "col_list = [\"items\",\"items_snippet\"]\n",
    "\n",
    "def flat_func(df,column):\n",
    "    for column in col_list:\n",
    "        flatten = pd.DataFrame(dict(df[column])).transpose()\n",
    "        columns = [str(i) for i in flatten.columns]\n",
    "        flatten.columns = [column + \"_\" + str(colname) for colname in columns]\n",
    "        df = pd.concat([df,flatten],axis=1)\n",
    "        df = df.drop(column,axis=1)\n",
    "    return df\n",
    "\n",
    "gb_flat = flat_func(gb_json,col_list)[[\"items_id\",\"items_snippet_title\"]]"
   ]
  },
  {
   "cell_type": "code",
   "execution_count": 6,
   "metadata": {},
   "outputs": [],
   "source": [
    "# Adding trends next to categoryId's, could be useful for further analysis\n",
    "'''\n",
    "categoryId 29 is missing in JSON file so I am going to remove rows with categoryId 29 in order to run \n",
    "below code. There are only 3 rows available with categoryId 29, so shouldn't be a problem at all.\n",
    "'''\n",
    "drop_idx = data_gb[data_gb.categoryId == 29].index\n",
    "data_gb = data_gb.drop(drop_idx)\n",
    "\n",
    "trend = []\n",
    "for i in data_gb[\"categoryId\"]:\n",
    "    for j in range(0,len(gb_flat)):\n",
    "        if i == int(gb_flat[\"items_id\"][j]):\n",
    "            trend.append(gb_flat[\"items_snippet_title\"][j])\n",
    "\n",
    "data_gb.insert(6,\"trend\",trend)"
   ]
  },
  {
   "cell_type": "markdown",
   "metadata": {},
   "source": [
    "### Data Analysis"
   ]
  },
  {
   "cell_type": "code",
   "execution_count": 15,
   "metadata": {},
   "outputs": [
    {
     "data": {
      "text/plain": [
       "categoryId       0\n",
       "trend            0\n",
       "view_count       0\n",
       "likes            0\n",
       "dislikes         0\n",
       "comment_count    0\n",
       "dtype: int64"
      ]
     },
     "execution_count": 15,
     "metadata": {},
     "output_type": "execute_result"
    }
   ],
   "source": [
    "'''\n",
    "No null values.\n",
    "'''\n",
    "data_gb_stats.isnull().sum()"
   ]
  },
  {
   "cell_type": "code",
   "execution_count": 23,
   "metadata": {},
   "outputs": [
    {
     "data": {
      "text/html": [
       "<div>\n",
       "<style scoped>\n",
       "    .dataframe tbody tr th:only-of-type {\n",
       "        vertical-align: middle;\n",
       "    }\n",
       "\n",
       "    .dataframe tbody tr th {\n",
       "        vertical-align: top;\n",
       "    }\n",
       "\n",
       "    .dataframe thead th {\n",
       "        text-align: right;\n",
       "    }\n",
       "</style>\n",
       "<table border=\"1\" class=\"dataframe\">\n",
       "  <thead>\n",
       "    <tr style=\"text-align: right;\">\n",
       "      <th></th>\n",
       "      <th>comment_count</th>\n",
       "      <th>dislikes</th>\n",
       "      <th>likes</th>\n",
       "      <th>view_count</th>\n",
       "    </tr>\n",
       "    <tr>\n",
       "      <th>trend</th>\n",
       "      <th></th>\n",
       "      <th></th>\n",
       "      <th></th>\n",
       "      <th></th>\n",
       "    </tr>\n",
       "  </thead>\n",
       "  <tbody>\n",
       "    <tr>\n",
       "      <th>Autos &amp; Vehicles</th>\n",
       "      <td>4329.756863</td>\n",
       "      <td>701.164706</td>\n",
       "      <td>52307.462745</td>\n",
       "      <td>8.338909e+05</td>\n",
       "    </tr>\n",
       "    <tr>\n",
       "      <th>Comedy</th>\n",
       "      <td>6870.574924</td>\n",
       "      <td>1213.715596</td>\n",
       "      <td>111475.672783</td>\n",
       "      <td>1.193184e+06</td>\n",
       "    </tr>\n",
       "    <tr>\n",
       "      <th>Education</th>\n",
       "      <td>6133.982456</td>\n",
       "      <td>881.210526</td>\n",
       "      <td>71836.038596</td>\n",
       "      <td>1.012919e+06</td>\n",
       "    </tr>\n",
       "    <tr>\n",
       "      <th>Entertainment</th>\n",
       "      <td>9604.756703</td>\n",
       "      <td>2413.411278</td>\n",
       "      <td>124177.778391</td>\n",
       "      <td>1.833418e+06</td>\n",
       "    </tr>\n",
       "    <tr>\n",
       "      <th>Film &amp; Animation</th>\n",
       "      <td>7409.929448</td>\n",
       "      <td>1958.828221</td>\n",
       "      <td>90358.785276</td>\n",
       "      <td>1.700654e+06</td>\n",
       "    </tr>\n",
       "    <tr>\n",
       "      <th>Gaming</th>\n",
       "      <td>10844.448471</td>\n",
       "      <td>3629.408834</td>\n",
       "      <td>116784.161948</td>\n",
       "      <td>2.260163e+06</td>\n",
       "    </tr>\n",
       "    <tr>\n",
       "      <th>Howto &amp; Style</th>\n",
       "      <td>4770.213303</td>\n",
       "      <td>1917.238532</td>\n",
       "      <td>66864.621560</td>\n",
       "      <td>1.051902e+06</td>\n",
       "    </tr>\n",
       "    <tr>\n",
       "      <th>Music</th>\n",
       "      <td>61977.308002</td>\n",
       "      <td>11160.409160</td>\n",
       "      <td>386101.302466</td>\n",
       "      <td>4.768394e+06</td>\n",
       "    </tr>\n",
       "    <tr>\n",
       "      <th>News &amp; Politics</th>\n",
       "      <td>5719.312500</td>\n",
       "      <td>2022.440789</td>\n",
       "      <td>13347.588816</td>\n",
       "      <td>9.060529e+05</td>\n",
       "    </tr>\n",
       "    <tr>\n",
       "      <th>People &amp; Blogs</th>\n",
       "      <td>8256.818182</td>\n",
       "      <td>3823.149351</td>\n",
       "      <td>116710.813853</td>\n",
       "      <td>1.715583e+06</td>\n",
       "    </tr>\n",
       "    <tr>\n",
       "      <th>Pets &amp; Animals</th>\n",
       "      <td>4389.088889</td>\n",
       "      <td>663.711111</td>\n",
       "      <td>39116.755556</td>\n",
       "      <td>7.545189e+05</td>\n",
       "    </tr>\n",
       "    <tr>\n",
       "      <th>Science &amp; Technology</th>\n",
       "      <td>5534.553309</td>\n",
       "      <td>2156.759191</td>\n",
       "      <td>67423.273897</td>\n",
       "      <td>1.732192e+06</td>\n",
       "    </tr>\n",
       "    <tr>\n",
       "      <th>Sports</th>\n",
       "      <td>2283.565941</td>\n",
       "      <td>692.067723</td>\n",
       "      <td>23018.306535</td>\n",
       "      <td>8.449942e+05</td>\n",
       "    </tr>\n",
       "    <tr>\n",
       "      <th>Travel &amp; Events</th>\n",
       "      <td>1773.617021</td>\n",
       "      <td>402.063830</td>\n",
       "      <td>17307.957447</td>\n",
       "      <td>5.041979e+05</td>\n",
       "    </tr>\n",
       "  </tbody>\n",
       "</table>\n",
       "</div>"
      ],
      "text/plain": [
       "                      comment_count      dislikes          likes    view_count\n",
       "trend                                                                         \n",
       "Autos & Vehicles        4329.756863    701.164706   52307.462745  8.338909e+05\n",
       "Comedy                  6870.574924   1213.715596  111475.672783  1.193184e+06\n",
       "Education               6133.982456    881.210526   71836.038596  1.012919e+06\n",
       "Entertainment           9604.756703   2413.411278  124177.778391  1.833418e+06\n",
       "Film & Animation        7409.929448   1958.828221   90358.785276  1.700654e+06\n",
       "Gaming                 10844.448471   3629.408834  116784.161948  2.260163e+06\n",
       "Howto & Style           4770.213303   1917.238532   66864.621560  1.051902e+06\n",
       "Music                  61977.308002  11160.409160  386101.302466  4.768394e+06\n",
       "News & Politics         5719.312500   2022.440789   13347.588816  9.060529e+05\n",
       "People & Blogs          8256.818182   3823.149351  116710.813853  1.715583e+06\n",
       "Pets & Animals          4389.088889    663.711111   39116.755556  7.545189e+05\n",
       "Science & Technology    5534.553309   2156.759191   67423.273897  1.732192e+06\n",
       "Sports                  2283.565941    692.067723   23018.306535  8.449942e+05\n",
       "Travel & Events         1773.617021    402.063830   17307.957447  5.041979e+05"
      ]
     },
     "execution_count": 23,
     "metadata": {},
     "output_type": "execute_result"
    }
   ],
   "source": [
    "data_gb_numerical = data_gb[[\"view_count\",\"likes\",\"dislikes\",\"comment_count\"]]\n",
    "data_gb_pivot_table = pd.pivot_table(data_gb_stats,values=([\"view_count\",\"likes\",\"dislikes\",\n",
    "                                                            \"comment_count\"]),index=\"trend\")\n",
    "data_gb_pivot_table"
   ]
  },
  {
   "cell_type": "code",
   "execution_count": 35,
   "metadata": {},
   "outputs": [
    {
     "name": "stdout",
     "output_type": "stream",
     "text": [
      "minimum values;\n",
      " comment_count      1773.617021\n",
      "dislikes            402.063830\n",
      "likes             13347.588816\n",
      "view_count       504197.936170\n",
      "dtype: float64\n",
      "\n",
      "\n",
      "maximum values;\n",
      " comment_count    6.197731e+04\n",
      "dislikes         1.116041e+04\n",
      "likes            3.861013e+05\n",
      "view_count       4.768394e+06\n",
      "dtype: float64\n"
     ]
    }
   ],
   "source": [
    "'''\n",
    "Well actually, we don't need to set a thresh-hold for a minimum values since the lowest score is\n",
    "equal to approximately four hundred million. (Note: we are looking trends.)\n",
    "'''\n",
    "print(\"minimum values;\\n\",data_gb_pivot_table.min())\n",
    "print(\"\\n\\nmaximum values;\\n\",data_gb_pivot_table.max())"
   ]
  },
  {
   "cell_type": "code",
   "execution_count": 161,
   "metadata": {},
   "outputs": [
    {
     "data": {
      "text/html": [
       "<div>\n",
       "<style scoped>\n",
       "    .dataframe tbody tr th:only-of-type {\n",
       "        vertical-align: middle;\n",
       "    }\n",
       "\n",
       "    .dataframe tbody tr th {\n",
       "        vertical-align: top;\n",
       "    }\n",
       "\n",
       "    .dataframe thead th {\n",
       "        text-align: right;\n",
       "    }\n",
       "</style>\n",
       "<table border=\"1\" class=\"dataframe\">\n",
       "  <thead>\n",
       "    <tr style=\"text-align: right;\">\n",
       "      <th></th>\n",
       "      <th>view_count</th>\n",
       "      <th>likes</th>\n",
       "      <th>dislikes</th>\n",
       "      <th>comment_count</th>\n",
       "    </tr>\n",
       "  </thead>\n",
       "  <tbody>\n",
       "    <tr>\n",
       "      <th>view_count</th>\n",
       "      <td>1.000000</td>\n",
       "      <td>0.934300</td>\n",
       "      <td>0.847083</td>\n",
       "      <td>0.801808</td>\n",
       "    </tr>\n",
       "    <tr>\n",
       "      <th>likes</th>\n",
       "      <td>0.934300</td>\n",
       "      <td>1.000000</td>\n",
       "      <td>0.797281</td>\n",
       "      <td>0.813243</td>\n",
       "    </tr>\n",
       "    <tr>\n",
       "      <th>dislikes</th>\n",
       "      <td>0.847083</td>\n",
       "      <td>0.797281</td>\n",
       "      <td>1.000000</td>\n",
       "      <td>0.754661</td>\n",
       "    </tr>\n",
       "    <tr>\n",
       "      <th>comment_count</th>\n",
       "      <td>0.801808</td>\n",
       "      <td>0.813243</td>\n",
       "      <td>0.754661</td>\n",
       "      <td>1.000000</td>\n",
       "    </tr>\n",
       "  </tbody>\n",
       "</table>\n",
       "</div>"
      ],
      "text/plain": [
       "               view_count     likes  dislikes  comment_count\n",
       "view_count       1.000000  0.934300  0.847083       0.801808\n",
       "likes            0.934300  1.000000  0.797281       0.813243\n",
       "dislikes         0.847083  0.797281  1.000000       0.754661\n",
       "comment_count    0.801808  0.813243  0.754661       1.000000"
      ]
     },
     "execution_count": 161,
     "metadata": {},
     "output_type": "execute_result"
    }
   ],
   "source": [
    "'''\n",
    "Apparently, there are strong positive correlations between;\n",
    "\n",
    "view_count vs. likes\n",
    "view_count vs. dislikes\n",
    "view_count vs. comment_count\n",
    "\n",
    "likes vs.dislikes\n",
    "likes vs. comment_count\n",
    "\n",
    "dislikes vs. comment_count\n",
    "'''\n",
    "data_gb_numerical.corr()"
   ]
  },
  {
   "cell_type": "code",
   "execution_count": null,
   "metadata": {},
   "outputs": [],
   "source": []
  },
  {
   "cell_type": "code",
   "execution_count": null,
   "metadata": {},
   "outputs": [],
   "source": []
  },
  {
   "cell_type": "code",
   "execution_count": null,
   "metadata": {},
   "outputs": [],
   "source": []
  },
  {
   "cell_type": "code",
   "execution_count": null,
   "metadata": {},
   "outputs": [],
   "source": []
  },
  {
   "cell_type": "code",
   "execution_count": null,
   "metadata": {},
   "outputs": [],
   "source": []
  },
  {
   "cell_type": "code",
   "execution_count": null,
   "metadata": {},
   "outputs": [],
   "source": []
  },
  {
   "cell_type": "code",
   "execution_count": null,
   "metadata": {},
   "outputs": [],
   "source": []
  },
  {
   "cell_type": "code",
   "execution_count": null,
   "metadata": {},
   "outputs": [],
   "source": []
  },
  {
   "cell_type": "code",
   "execution_count": null,
   "metadata": {},
   "outputs": [],
   "source": []
  },
  {
   "cell_type": "code",
   "execution_count": null,
   "metadata": {},
   "outputs": [],
   "source": []
  },
  {
   "cell_type": "code",
   "execution_count": null,
   "metadata": {},
   "outputs": [],
   "source": []
  },
  {
   "cell_type": "code",
   "execution_count": null,
   "metadata": {},
   "outputs": [],
   "source": []
  },
  {
   "cell_type": "code",
   "execution_count": null,
   "metadata": {},
   "outputs": [],
   "source": []
  },
  {
   "cell_type": "code",
   "execution_count": null,
   "metadata": {},
   "outputs": [],
   "source": []
  },
  {
   "cell_type": "code",
   "execution_count": null,
   "metadata": {},
   "outputs": [],
   "source": []
  },
  {
   "cell_type": "code",
   "execution_count": null,
   "metadata": {},
   "outputs": [],
   "source": []
  },
  {
   "cell_type": "code",
   "execution_count": null,
   "metadata": {},
   "outputs": [],
   "source": []
  },
  {
   "cell_type": "code",
   "execution_count": null,
   "metadata": {},
   "outputs": [],
   "source": []
  },
  {
   "cell_type": "code",
   "execution_count": null,
   "metadata": {},
   "outputs": [],
   "source": []
  },
  {
   "cell_type": "code",
   "execution_count": 28,
   "metadata": {
    "scrolled": false
   },
   "outputs": [
    {
     "name": "stderr",
     "output_type": "stream",
     "text": [
      "c:\\users\\gorkem\\appdata\\local\\programs\\python\\python38-32\\lib\\site-packages\\seaborn\\distributions.py:305: UserWarning: Dataset has 0 variance; skipping density estimate.\n",
      "  warnings.warn(msg, UserWarning)\n",
      "c:\\users\\gorkem\\appdata\\local\\programs\\python\\python38-32\\lib\\site-packages\\seaborn\\distributions.py:305: UserWarning: Dataset has 0 variance; skipping density estimate.\n",
      "  warnings.warn(msg, UserWarning)\n",
      "c:\\users\\gorkem\\appdata\\local\\programs\\python\\python38-32\\lib\\site-packages\\seaborn\\distributions.py:305: UserWarning: Dataset has 0 variance; skipping density estimate.\n",
      "  warnings.warn(msg, UserWarning)\n",
      "c:\\users\\gorkem\\appdata\\local\\programs\\python\\python38-32\\lib\\site-packages\\seaborn\\distributions.py:305: UserWarning: Dataset has 0 variance; skipping density estimate.\n",
      "  warnings.warn(msg, UserWarning)\n",
      "c:\\users\\gorkem\\appdata\\local\\programs\\python\\python38-32\\lib\\site-packages\\seaborn\\distributions.py:305: UserWarning: Dataset has 0 variance; skipping density estimate.\n",
      "  warnings.warn(msg, UserWarning)\n",
      "c:\\users\\gorkem\\appdata\\local\\programs\\python\\python38-32\\lib\\site-packages\\seaborn\\distributions.py:305: UserWarning: Dataset has 0 variance; skipping density estimate.\n",
      "  warnings.warn(msg, UserWarning)\n",
      "c:\\users\\gorkem\\appdata\\local\\programs\\python\\python38-32\\lib\\site-packages\\seaborn\\distributions.py:305: UserWarning: Dataset has 0 variance; skipping density estimate.\n",
      "  warnings.warn(msg, UserWarning)\n",
      "c:\\users\\gorkem\\appdata\\local\\programs\\python\\python38-32\\lib\\site-packages\\seaborn\\distributions.py:305: UserWarning: Dataset has 0 variance; skipping density estimate.\n",
      "  warnings.warn(msg, UserWarning)\n",
      "c:\\users\\gorkem\\appdata\\local\\programs\\python\\python38-32\\lib\\site-packages\\seaborn\\distributions.py:305: UserWarning: Dataset has 0 variance; skipping density estimate.\n",
      "  warnings.warn(msg, UserWarning)\n",
      "c:\\users\\gorkem\\appdata\\local\\programs\\python\\python38-32\\lib\\site-packages\\seaborn\\distributions.py:305: UserWarning: Dataset has 0 variance; skipping density estimate.\n",
      "  warnings.warn(msg, UserWarning)\n",
      "c:\\users\\gorkem\\appdata\\local\\programs\\python\\python38-32\\lib\\site-packages\\seaborn\\distributions.py:305: UserWarning: Dataset has 0 variance; skipping density estimate.\n",
      "  warnings.warn(msg, UserWarning)\n",
      "c:\\users\\gorkem\\appdata\\local\\programs\\python\\python38-32\\lib\\site-packages\\seaborn\\distributions.py:305: UserWarning: Dataset has 0 variance; skipping density estimate.\n",
      "  warnings.warn(msg, UserWarning)\n",
      "c:\\users\\gorkem\\appdata\\local\\programs\\python\\python38-32\\lib\\site-packages\\seaborn\\distributions.py:305: UserWarning: Dataset has 0 variance; skipping density estimate.\n",
      "  warnings.warn(msg, UserWarning)\n",
      "c:\\users\\gorkem\\appdata\\local\\programs\\python\\python38-32\\lib\\site-packages\\seaborn\\distributions.py:305: UserWarning: Dataset has 0 variance; skipping density estimate.\n",
      "  warnings.warn(msg, UserWarning)\n",
      "c:\\users\\gorkem\\appdata\\local\\programs\\python\\python38-32\\lib\\site-packages\\seaborn\\distributions.py:305: UserWarning: Dataset has 0 variance; skipping density estimate.\n",
      "  warnings.warn(msg, UserWarning)\n",
      "c:\\users\\gorkem\\appdata\\local\\programs\\python\\python38-32\\lib\\site-packages\\seaborn\\distributions.py:305: UserWarning: Dataset has 0 variance; skipping density estimate.\n",
      "  warnings.warn(msg, UserWarning)\n",
      "c:\\users\\gorkem\\appdata\\local\\programs\\python\\python38-32\\lib\\site-packages\\seaborn\\distributions.py:305: UserWarning: Dataset has 0 variance; skipping density estimate.\n",
      "  warnings.warn(msg, UserWarning)\n",
      "c:\\users\\gorkem\\appdata\\local\\programs\\python\\python38-32\\lib\\site-packages\\seaborn\\distributions.py:305: UserWarning: Dataset has 0 variance; skipping density estimate.\n",
      "  warnings.warn(msg, UserWarning)\n",
      "c:\\users\\gorkem\\appdata\\local\\programs\\python\\python38-32\\lib\\site-packages\\seaborn\\distributions.py:305: UserWarning: Dataset has 0 variance; skipping density estimate.\n",
      "  warnings.warn(msg, UserWarning)\n",
      "c:\\users\\gorkem\\appdata\\local\\programs\\python\\python38-32\\lib\\site-packages\\seaborn\\distributions.py:305: UserWarning: Dataset has 0 variance; skipping density estimate.\n",
      "  warnings.warn(msg, UserWarning)\n",
      "c:\\users\\gorkem\\appdata\\local\\programs\\python\\python38-32\\lib\\site-packages\\seaborn\\distributions.py:305: UserWarning: Dataset has 0 variance; skipping density estimate.\n",
      "  warnings.warn(msg, UserWarning)\n",
      "c:\\users\\gorkem\\appdata\\local\\programs\\python\\python38-32\\lib\\site-packages\\seaborn\\distributions.py:305: UserWarning: Dataset has 0 variance; skipping density estimate.\n",
      "  warnings.warn(msg, UserWarning)\n",
      "c:\\users\\gorkem\\appdata\\local\\programs\\python\\python38-32\\lib\\site-packages\\seaborn\\distributions.py:305: UserWarning: Dataset has 0 variance; skipping density estimate.\n",
      "  warnings.warn(msg, UserWarning)\n",
      "c:\\users\\gorkem\\appdata\\local\\programs\\python\\python38-32\\lib\\site-packages\\seaborn\\distributions.py:305: UserWarning: Dataset has 0 variance; skipping density estimate.\n",
      "  warnings.warn(msg, UserWarning)\n",
      "c:\\users\\gorkem\\appdata\\local\\programs\\python\\python38-32\\lib\\site-packages\\seaborn\\distributions.py:305: UserWarning: Dataset has 0 variance; skipping density estimate.\n",
      "  warnings.warn(msg, UserWarning)\n",
      "c:\\users\\gorkem\\appdata\\local\\programs\\python\\python38-32\\lib\\site-packages\\seaborn\\distributions.py:305: UserWarning: Dataset has 0 variance; skipping density estimate.\n",
      "  warnings.warn(msg, UserWarning)\n",
      "c:\\users\\gorkem\\appdata\\local\\programs\\python\\python38-32\\lib\\site-packages\\seaborn\\distributions.py:305: UserWarning: Dataset has 0 variance; skipping density estimate.\n",
      "  warnings.warn(msg, UserWarning)\n",
      "c:\\users\\gorkem\\appdata\\local\\programs\\python\\python38-32\\lib\\site-packages\\seaborn\\distributions.py:305: UserWarning: Dataset has 0 variance; skipping density estimate.\n",
      "  warnings.warn(msg, UserWarning)\n",
      "c:\\users\\gorkem\\appdata\\local\\programs\\python\\python38-32\\lib\\site-packages\\seaborn\\distributions.py:305: UserWarning: Dataset has 0 variance; skipping density estimate.\n",
      "  warnings.warn(msg, UserWarning)\n",
      "c:\\users\\gorkem\\appdata\\local\\programs\\python\\python38-32\\lib\\site-packages\\seaborn\\distributions.py:305: UserWarning: Dataset has 0 variance; skipping density estimate.\n",
      "  warnings.warn(msg, UserWarning)\n",
      "c:\\users\\gorkem\\appdata\\local\\programs\\python\\python38-32\\lib\\site-packages\\seaborn\\distributions.py:305: UserWarning: Dataset has 0 variance; skipping density estimate.\n",
      "  warnings.warn(msg, UserWarning)\n",
      "c:\\users\\gorkem\\appdata\\local\\programs\\python\\python38-32\\lib\\site-packages\\seaborn\\distributions.py:305: UserWarning: Dataset has 0 variance; skipping density estimate.\n",
      "  warnings.warn(msg, UserWarning)\n",
      "c:\\users\\gorkem\\appdata\\local\\programs\\python\\python38-32\\lib\\site-packages\\seaborn\\distributions.py:305: UserWarning: Dataset has 0 variance; skipping density estimate.\n",
      "  warnings.warn(msg, UserWarning)\n",
      "c:\\users\\gorkem\\appdata\\local\\programs\\python\\python38-32\\lib\\site-packages\\seaborn\\distributions.py:305: UserWarning: Dataset has 0 variance; skipping density estimate.\n",
      "  warnings.warn(msg, UserWarning)\n",
      "c:\\users\\gorkem\\appdata\\local\\programs\\python\\python38-32\\lib\\site-packages\\seaborn\\distributions.py:305: UserWarning: Dataset has 0 variance; skipping density estimate.\n",
      "  warnings.warn(msg, UserWarning)\n",
      "c:\\users\\gorkem\\appdata\\local\\programs\\python\\python38-32\\lib\\site-packages\\seaborn\\distributions.py:305: UserWarning: Dataset has 0 variance; skipping density estimate.\n",
      "  warnings.warn(msg, UserWarning)\n",
      "c:\\users\\gorkem\\appdata\\local\\programs\\python\\python38-32\\lib\\site-packages\\seaborn\\distributions.py:305: UserWarning: Dataset has 0 variance; skipping density estimate.\n",
      "  warnings.warn(msg, UserWarning)\n",
      "c:\\users\\gorkem\\appdata\\local\\programs\\python\\python38-32\\lib\\site-packages\\seaborn\\distributions.py:305: UserWarning: Dataset has 0 variance; skipping density estimate.\n",
      "  warnings.warn(msg, UserWarning)\n",
      "c:\\users\\gorkem\\appdata\\local\\programs\\python\\python38-32\\lib\\site-packages\\seaborn\\distributions.py:305: UserWarning: Dataset has 0 variance; skipping density estimate.\n",
      "  warnings.warn(msg, UserWarning)\n",
      "c:\\users\\gorkem\\appdata\\local\\programs\\python\\python38-32\\lib\\site-packages\\seaborn\\distributions.py:305: UserWarning: Dataset has 0 variance; skipping density estimate.\n",
      "  warnings.warn(msg, UserWarning)\n",
      "c:\\users\\gorkem\\appdata\\local\\programs\\python\\python38-32\\lib\\site-packages\\seaborn\\distributions.py:305: UserWarning: Dataset has 0 variance; skipping density estimate.\n",
      "  warnings.warn(msg, UserWarning)\n",
      "c:\\users\\gorkem\\appdata\\local\\programs\\python\\python38-32\\lib\\site-packages\\seaborn\\distributions.py:305: UserWarning: Dataset has 0 variance; skipping density estimate.\n",
      "  warnings.warn(msg, UserWarning)\n",
      "c:\\users\\gorkem\\appdata\\local\\programs\\python\\python38-32\\lib\\site-packages\\seaborn\\distributions.py:305: UserWarning: Dataset has 0 variance; skipping density estimate.\n",
      "  warnings.warn(msg, UserWarning)\n",
      "c:\\users\\gorkem\\appdata\\local\\programs\\python\\python38-32\\lib\\site-packages\\seaborn\\distributions.py:305: UserWarning: Dataset has 0 variance; skipping density estimate.\n",
      "  warnings.warn(msg, UserWarning)\n",
      "c:\\users\\gorkem\\appdata\\local\\programs\\python\\python38-32\\lib\\site-packages\\seaborn\\distributions.py:305: UserWarning: Dataset has 0 variance; skipping density estimate.\n",
      "  warnings.warn(msg, UserWarning)\n",
      "c:\\users\\gorkem\\appdata\\local\\programs\\python\\python38-32\\lib\\site-packages\\seaborn\\distributions.py:305: UserWarning: Dataset has 0 variance; skipping density estimate.\n",
      "  warnings.warn(msg, UserWarning)\n",
      "c:\\users\\gorkem\\appdata\\local\\programs\\python\\python38-32\\lib\\site-packages\\seaborn\\distributions.py:305: UserWarning: Dataset has 0 variance; skipping density estimate.\n",
      "  warnings.warn(msg, UserWarning)\n",
      "c:\\users\\gorkem\\appdata\\local\\programs\\python\\python38-32\\lib\\site-packages\\seaborn\\distributions.py:305: UserWarning: Dataset has 0 variance; skipping density estimate.\n",
      "  warnings.warn(msg, UserWarning)\n",
      "c:\\users\\gorkem\\appdata\\local\\programs\\python\\python38-32\\lib\\site-packages\\seaborn\\distributions.py:305: UserWarning: Dataset has 0 variance; skipping density estimate.\n",
      "  warnings.warn(msg, UserWarning)\n",
      "c:\\users\\gorkem\\appdata\\local\\programs\\python\\python38-32\\lib\\site-packages\\seaborn\\distributions.py:305: UserWarning: Dataset has 0 variance; skipping density estimate.\n",
      "  warnings.warn(msg, UserWarning)\n",
      "c:\\users\\gorkem\\appdata\\local\\programs\\python\\python38-32\\lib\\site-packages\\seaborn\\distributions.py:305: UserWarning: Dataset has 0 variance; skipping density estimate.\n",
      "  warnings.warn(msg, UserWarning)\n",
      "c:\\users\\gorkem\\appdata\\local\\programs\\python\\python38-32\\lib\\site-packages\\seaborn\\distributions.py:305: UserWarning: Dataset has 0 variance; skipping density estimate.\n",
      "  warnings.warn(msg, UserWarning)\n",
      "c:\\users\\gorkem\\appdata\\local\\programs\\python\\python38-32\\lib\\site-packages\\seaborn\\distributions.py:305: UserWarning: Dataset has 0 variance; skipping density estimate.\n",
      "  warnings.warn(msg, UserWarning)\n",
      "c:\\users\\gorkem\\appdata\\local\\programs\\python\\python38-32\\lib\\site-packages\\seaborn\\distributions.py:305: UserWarning: Dataset has 0 variance; skipping density estimate.\n",
      "  warnings.warn(msg, UserWarning)\n",
      "c:\\users\\gorkem\\appdata\\local\\programs\\python\\python38-32\\lib\\site-packages\\seaborn\\distributions.py:305: UserWarning: Dataset has 0 variance; skipping density estimate.\n",
      "  warnings.warn(msg, UserWarning)\n",
      "c:\\users\\gorkem\\appdata\\local\\programs\\python\\python38-32\\lib\\site-packages\\seaborn\\distributions.py:305: UserWarning: Dataset has 0 variance; skipping density estimate.\n",
      "  warnings.warn(msg, UserWarning)\n"
     ]
    },
    {
     "data": {
      "text/plain": [
       "<seaborn.axisgrid.PairGrid at 0x3a12eef8>"
      ]
     },
     "execution_count": 28,
     "metadata": {},
     "output_type": "execute_result"
    },
    {
     "data": {
      "image/png": "[encoded data removed]",
      "text/plain": [
       "<Figure size 864.625x720 with 20 Axes>"
      ]
     },
     "metadata": {
      "needs_background": "light"
     },
     "output_type": "display_data"
    }
   ],
   "source": [
    "sns.pairplot(data_gb_pivot_table.reset_index(),hue=\"trend\")"
   ]
  },
  {
   "cell_type": "code",
   "execution_count": null,
   "metadata": {},
   "outputs": [],
   "source": []
  },
  {
   "cell_type": "code",
   "execution_count": null,
   "metadata": {},
   "outputs": [],
   "source": []
  },
  {
   "cell_type": "code",
   "execution_count": null,
   "metadata": {},
   "outputs": [],
   "source": []
  },
  {
   "cell_type": "code",
   "execution_count": null,
   "metadata": {},
   "outputs": [],
   "source": []
  },
  {
   "cell_type": "code",
   "execution_count": null,
   "metadata": {},
   "outputs": [],
   "source": []
  },
  {
   "cell_type": "code",
   "execution_count": null,
   "metadata": {},
   "outputs": [],
   "source": []
  },
  {
   "cell_type": "code",
   "execution_count": null,
   "metadata": {},
   "outputs": [],
   "source": []
  },
  {
   "cell_type": "code",
   "execution_count": null,
   "metadata": {},
   "outputs": [],
   "source": []
  },
  {
   "cell_type": "code",
   "execution_count": null,
   "metadata": {},
   "outputs": [],
   "source": []
  },
  {
   "cell_type": "code",
   "execution_count": null,
   "metadata": {},
   "outputs": [],
   "source": []
  },
  {
   "cell_type": "code",
   "execution_count": null,
   "metadata": {},
   "outputs": [],
   "source": []
  },
  {
   "cell_type": "code",
   "execution_count": null,
   "metadata": {},
   "outputs": [],
   "source": []
  },
  {
   "cell_type": "code",
   "execution_count": null,
   "metadata": {},
   "outputs": [],
   "source": []
  },
  {
   "cell_type": "code",
   "execution_count": null,
   "metadata": {},
   "outputs": [],
   "source": []
  },
  {
   "cell_type": "markdown",
   "metadata": {},
   "source": [
    "Possible hypothesis;\n",
    "\n",
    "more popular the video more like/less dislike,\n",
    "tbc"
   ]
  }
 ],
 "metadata": {
  "kernelspec": {
   "display_name": "Python 3",
   "language": "python",
   "name": "python3"
  },
  "language_info": {
   "codemirror_mode": {
    "name": "ipython",
    "version": 3
   },
   "file_extension": ".py",
   "mimetype": "text/x-python",
   "name": "python",
   "nbconvert_exporter": "python",
   "pygments_lexer": "ipython3",
   "version": "3.8.3"
  }
 },
 "nbformat": 4,
 "nbformat_minor": 4
}
