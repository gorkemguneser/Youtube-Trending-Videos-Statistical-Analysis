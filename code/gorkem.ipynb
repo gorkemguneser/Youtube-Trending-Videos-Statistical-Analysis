{
 "cells": [
  {
   "cell_type": "markdown",
   "metadata": {},
   "source": [
    "# YouTube Trending Videos Statistical Analysis"
   ]
  },
  {
   "cell_type": "markdown",
   "metadata": {},
   "source": [
    "## INTRODUCTION"
   ]
  },
  {
   "cell_type": "markdown",
   "metadata": {},
   "source": [
    "#### to be edited</b>\n",
    "<b>https://www.kaggle.com/rsrishav/youtube-trending-video-dataset"
   ]
  },
  {
   "cell_type": "code",
   "execution_count": 1,
   "metadata": {},
   "outputs": [],
   "source": [
    "# Importing libraries\n",
    "import math\n",
    "import pandas as pd\n",
    "import numpy as np\n",
    "import matplotlib.pyplot as plt\n",
    "import seaborn as sns\n",
    "import scipy\n",
    "from scipy import stats\n",
    "from scipy.stats import norm\n",
    "from scipy.stats import t\n",
    "from scipy.stats import ttest_1samp\n",
    "\n",
    "%matplotlib inline"
   ]
  },
  {
   "cell_type": "code",
   "execution_count": 2,
   "metadata": {},
   "outputs": [],
   "source": [
    "'''\n",
    "Later on we can also remove the ones we wouldn't use\n",
    "'''\n",
    "# Importing dataset\n",
    "data_gb = pd.read_csv(\"../data/GB_youtube_trending_data.csv\",sep=\",\")  #uk  \n",
    "data_fr = pd.read_csv(\"../data/FR_youtube_trending_data.csv\",sep=\",\")  #france\n",
    "data_us = pd.read_csv(\"../data/US_youtube_trending_data.csv\",sep=\",\")  #usa \n",
    "data_ru = pd.read_csv(\"../data/RU_youtube_trending_data.csv\",sep=\",\")  #russia\n",
    "data_de = pd.read_csv(\"../data/DE_youtube_trending_data.csv\",sep=\",\")  #germany \n",
    "data_ca = pd.read_csv(\"../data/CA_youtube_trending_data.csv\",sep=\",\")  #canada   \n",
    "data_kr = pd.read_csv(\"../data/KR_youtube_trending_data.csv\",sep=\",\")  #southkorea   \n",
    "data_jp = pd.read_csv(\"../data/JP_youtube_trending_data.csv\",sep=\",\")  #japan\n",
    "data_br = pd.read_csv(\"../data/BR_youtube_trending_data.csv\",sep=\",\")  #brazil\n",
    "data_mx = pd.read_csv(\"../data/MX_youtube_trending_data.csv\",sep=\",\")  #mexico"
   ]
  },
  {
   "cell_type": "code",
   "execution_count": 3,
   "metadata": {
    "scrolled": true
   },
   "outputs": [
    {
     "data": {
      "text/html": [
       "<div>\n",
       "<style scoped>\n",
       "    .dataframe tbody tr th:only-of-type {\n",
       "        vertical-align: middle;\n",
       "    }\n",
       "\n",
       "    .dataframe tbody tr th {\n",
       "        vertical-align: top;\n",
       "    }\n",
       "\n",
       "    .dataframe thead th {\n",
       "        text-align: right;\n",
       "    }\n",
       "</style>\n",
       "<table border=\"1\" class=\"dataframe\">\n",
       "  <thead>\n",
       "    <tr style=\"text-align: right;\">\n",
       "      <th></th>\n",
       "      <th>Property</th>\n",
       "      <th>Output</th>\n",
       "    </tr>\n",
       "  </thead>\n",
       "  <tbody>\n",
       "    <tr>\n",
       "      <th>0</th>\n",
       "      <td>video_id</td>\n",
       "      <td>J78aPJ3VyNs</td>\n",
       "    </tr>\n",
       "    <tr>\n",
       "      <th>1</th>\n",
       "      <td>title</td>\n",
       "      <td>I left youtube for a month and THIS is what ha...</td>\n",
       "    </tr>\n",
       "    <tr>\n",
       "      <th>2</th>\n",
       "      <td>publishedAt</td>\n",
       "      <td>2020-08-11T16:34:06Z</td>\n",
       "    </tr>\n",
       "    <tr>\n",
       "      <th>3</th>\n",
       "      <td>channelId</td>\n",
       "      <td>UCYzPXprvl5Y-Sf0g4vX-m6g</td>\n",
       "    </tr>\n",
       "    <tr>\n",
       "      <th>4</th>\n",
       "      <td>channelTitle</td>\n",
       "      <td>jacksepticeye</td>\n",
       "    </tr>\n",
       "    <tr>\n",
       "      <th>5</th>\n",
       "      <td>categoryId</td>\n",
       "      <td>24</td>\n",
       "    </tr>\n",
       "    <tr>\n",
       "      <th>6</th>\n",
       "      <td>trending_date</td>\n",
       "      <td>2020-08-12T00:00:00Z</td>\n",
       "    </tr>\n",
       "    <tr>\n",
       "      <th>7</th>\n",
       "      <td>tags</td>\n",
       "      <td>jacksepticeye|funny|funny meme|memes|jacksepti...</td>\n",
       "    </tr>\n",
       "    <tr>\n",
       "      <th>8</th>\n",
       "      <td>view_count</td>\n",
       "      <td>2038853</td>\n",
       "    </tr>\n",
       "    <tr>\n",
       "      <th>9</th>\n",
       "      <td>likes</td>\n",
       "      <td>353790</td>\n",
       "    </tr>\n",
       "    <tr>\n",
       "      <th>10</th>\n",
       "      <td>dislikes</td>\n",
       "      <td>2628</td>\n",
       "    </tr>\n",
       "    <tr>\n",
       "      <th>11</th>\n",
       "      <td>comment_count</td>\n",
       "      <td>40228</td>\n",
       "    </tr>\n",
       "    <tr>\n",
       "      <th>12</th>\n",
       "      <td>thumbnail_link</td>\n",
       "      <td>https://i.ytimg.com/vi/J78aPJ3VyNs/default.jpg</td>\n",
       "    </tr>\n",
       "    <tr>\n",
       "      <th>13</th>\n",
       "      <td>comments_disabled</td>\n",
       "      <td>False</td>\n",
       "    </tr>\n",
       "    <tr>\n",
       "      <th>14</th>\n",
       "      <td>ratings_disabled</td>\n",
       "      <td>False</td>\n",
       "    </tr>\n",
       "    <tr>\n",
       "      <th>15</th>\n",
       "      <td>description</td>\n",
       "      <td>I left youtube for a month and this is what ha...</td>\n",
       "    </tr>\n",
       "  </tbody>\n",
       "</table>\n",
       "</div>"
      ],
      "text/plain": [
       "             Property                                             Output\n",
       "0            video_id                                        J78aPJ3VyNs\n",
       "1               title  I left youtube for a month and THIS is what ha...\n",
       "2         publishedAt                               2020-08-11T16:34:06Z\n",
       "3           channelId                           UCYzPXprvl5Y-Sf0g4vX-m6g\n",
       "4        channelTitle                                      jacksepticeye\n",
       "5          categoryId                                                 24\n",
       "6       trending_date                               2020-08-12T00:00:00Z\n",
       "7                tags  jacksepticeye|funny|funny meme|memes|jacksepti...\n",
       "8          view_count                                            2038853\n",
       "9               likes                                             353790\n",
       "10           dislikes                                               2628\n",
       "11      comment_count                                              40228\n",
       "12     thumbnail_link     https://i.ytimg.com/vi/J78aPJ3VyNs/default.jpg\n",
       "13  comments_disabled                                              False\n",
       "14   ratings_disabled                                              False\n",
       "15        description  I left youtube for a month and this is what ha..."
      ]
     },
     "execution_count": 3,
     "metadata": {},
     "output_type": "execute_result"
    }
   ],
   "source": [
    "'''\n",
    "This can stay for now to easily see what are our properties in the dataset. We can delete it once\n",
    "we are familiar with the dataset\n",
    "'''\n",
    "brief_list_col = []\n",
    "brief_list = []\n",
    "\n",
    "for i in range(0,len(data_gb.columns)):\n",
    "    brief_list_col.append(data_gb.columns[i])\n",
    "    brief_list.append(data_gb[data_gb.columns[i]][0])\n",
    "\n",
    "brief_df = pd.DataFrame(brief_list_col,columns=[\"Property\"])\n",
    "brief_df.insert(1,\"Output\",brief_list,True)\n",
    "brief_df"
   ]
  },
  {
   "cell_type": "markdown",
   "metadata": {},
   "source": [
    "                                       **INDIVIDUAL PARTS**"
   ]
  },
  {
   "cell_type": "markdown",
   "metadata": {},
   "source": [
    "### Data Cleaning & Wrangling"
   ]
  },
  {
   "cell_type": "code",
   "execution_count": 4,
   "metadata": {},
   "outputs": [],
   "source": [
    "# Adding json file\n",
    "gb_json = pd.read_json('../data/GB_category_id.json')"
   ]
  },
  {
   "cell_type": "code",
   "execution_count": 5,
   "metadata": {},
   "outputs": [],
   "source": [
    "# Flattening json file to get rid of dict format\n",
    "col_list = [\"items\",\"items_snippet\"]\n",
    "\n",
    "def flat_func(df,column):\n",
    "    for column in col_list:\n",
    "        flatten = pd.DataFrame(dict(df[column])).transpose()\n",
    "        columns = [str(i) for i in flatten.columns]\n",
    "        flatten.columns = [column + \"_\" + str(colname) for colname in columns]\n",
    "        df = pd.concat([df,flatten],axis=1)\n",
    "        df = df.drop(column,axis=1)\n",
    "    return df\n",
    "\n",
    "gb_flat = flat_func(gb_json,col_list)[[\"items_id\",\"items_snippet_title\"]]"
   ]
  },
  {
   "cell_type": "code",
   "execution_count": null,
   "metadata": {},
   "outputs": [],
   "source": []
  },
  {
   "cell_type": "code",
   "execution_count": 6,
   "metadata": {},
   "outputs": [],
   "source": [
    "# Adding trends next to categoryId's, could be useful for further analysis\n",
    "'''\n",
    "categoryId 29 is missing in JSON file so I am going to remove rows with categoryId 29 in order to run \n",
    "below code. There are only 3 rows available with categoryId 29, so shouldn't be a problem at all.\n",
    "'''\n",
    "drop_idx = data_gb[data_gb.categoryId == 29].index\n",
    "data_gb = data_gb.drop(drop_idx)\n",
    "\n",
    "trend = []\n",
    "for i in data_gb[\"categoryId\"]:\n",
    "    for j in range(0,len(gb_flat)):\n",
    "        if i == int(gb_flat[\"items_id\"][j]):\n",
    "            trend.append(gb_flat[\"items_snippet_title\"][j])\n",
    "\n",
    "data_gb.insert(6,\"trend\",trend)"
   ]
  },
  {
   "cell_type": "code",
   "execution_count": null,
   "metadata": {},
   "outputs": [],
   "source": []
  },
  {
   "cell_type": "code",
   "execution_count": 7,
   "metadata": {},
   "outputs": [],
   "source": [
    "# Scrapping the most updated row for each link\n",
    "latest_idx = []\n",
    "for link in np.array(data_gb[\"video_id\"].unique()):\n",
    "    latest_row = data_gb[(data_gb[\"video_id\"] == \n",
    "                          link)][[\"view_count\"]].nlargest(1,\"view_count\").index[0]\n",
    "    latest_idx.append(latest_row)\n",
    "\n",
    "# Re-creating database based on unique video_id's (the most recent column is taken)\n",
    "data_gb_unique = data_gb[data_gb.index.isin(latest_idx)]"
   ]
  },
  {
   "cell_type": "markdown",
   "metadata": {},
   "source": [
    "### Data Analysis"
   ]
  },
  {
   "cell_type": "code",
   "execution_count": 8,
   "metadata": {},
   "outputs": [
    {
     "data": {
      "text/plain": [
       "video_id              0\n",
       "title                 0\n",
       "publishedAt           0\n",
       "channelId             0\n",
       "channelTitle          0\n",
       "categoryId            0\n",
       "trend                 0\n",
       "trending_date         0\n",
       "tags                  0\n",
       "view_count            0\n",
       "likes                 0\n",
       "dislikes              0\n",
       "comment_count         0\n",
       "thumbnail_link        0\n",
       "comments_disabled     0\n",
       "ratings_disabled      0\n",
       "description          23\n",
       "dtype: int64"
      ]
     },
     "execution_count": 8,
     "metadata": {},
     "output_type": "execute_result"
    }
   ],
   "source": [
    "'''\n",
    "No null values.\n",
    "'''\n",
    "data_gb_unique.isnull().sum()"
   ]
  },
  {
   "cell_type": "code",
   "execution_count": 10,
   "metadata": {},
   "outputs": [
    {
     "data": {
      "text/html": [
       "<div>\n",
       "<style scoped>\n",
       "    .dataframe tbody tr th:only-of-type {\n",
       "        vertical-align: middle;\n",
       "    }\n",
       "\n",
       "    .dataframe tbody tr th {\n",
       "        vertical-align: top;\n",
       "    }\n",
       "\n",
       "    .dataframe thead th {\n",
       "        text-align: right;\n",
       "    }\n",
       "</style>\n",
       "<table border=\"1\" class=\"dataframe\">\n",
       "  <thead>\n",
       "    <tr style=\"text-align: right;\">\n",
       "      <th></th>\n",
       "      <th>comment_count</th>\n",
       "      <th>dislikes</th>\n",
       "      <th>likes</th>\n",
       "      <th>view_count</th>\n",
       "    </tr>\n",
       "    <tr>\n",
       "      <th>trend</th>\n",
       "      <th></th>\n",
       "      <th></th>\n",
       "      <th></th>\n",
       "      <th></th>\n",
       "    </tr>\n",
       "  </thead>\n",
       "  <tbody>\n",
       "    <tr>\n",
       "      <th>Autos &amp; Vehicles</th>\n",
       "      <td>260805</td>\n",
       "      <td>44400</td>\n",
       "      <td>3191581</td>\n",
       "      <td>55917651</td>\n",
       "    </tr>\n",
       "    <tr>\n",
       "      <th>Comedy</th>\n",
       "      <td>1057001</td>\n",
       "      <td>206928</td>\n",
       "      <td>17952077</td>\n",
       "      <td>206142921</td>\n",
       "    </tr>\n",
       "    <tr>\n",
       "      <th>Education</th>\n",
       "      <td>401346</td>\n",
       "      <td>61893</td>\n",
       "      <td>4853841</td>\n",
       "      <td>74887276</td>\n",
       "    </tr>\n",
       "    <tr>\n",
       "      <th>Entertainment</th>\n",
       "      <td>5474915</td>\n",
       "      <td>1384350</td>\n",
       "      <td>68352753</td>\n",
       "      <td>1091820159</td>\n",
       "    </tr>\n",
       "    <tr>\n",
       "      <th>Film &amp; Animation</th>\n",
       "      <td>560603</td>\n",
       "      <td>155201</td>\n",
       "      <td>7017811</td>\n",
       "      <td>143054112</td>\n",
       "    </tr>\n",
       "    <tr>\n",
       "      <th>Gaming</th>\n",
       "      <td>2190586</td>\n",
       "      <td>731890</td>\n",
       "      <td>24188088</td>\n",
       "      <td>509275146</td>\n",
       "    </tr>\n",
       "    <tr>\n",
       "      <th>Howto &amp; Style</th>\n",
       "      <td>479648</td>\n",
       "      <td>209799</td>\n",
       "      <td>6753120</td>\n",
       "      <td>114483319</td>\n",
       "    </tr>\n",
       "    <tr>\n",
       "      <th>Music</th>\n",
       "      <td>24306545</td>\n",
       "      <td>4679051</td>\n",
       "      <td>162292594</td>\n",
       "      <td>2336477998</td>\n",
       "    </tr>\n",
       "    <tr>\n",
       "      <th>News &amp; Politics</th>\n",
       "      <td>485364</td>\n",
       "      <td>169690</td>\n",
       "      <td>1088567</td>\n",
       "      <td>79180012</td>\n",
       "    </tr>\n",
       "    <tr>\n",
       "      <th>People &amp; Blogs</th>\n",
       "      <td>1589696</td>\n",
       "      <td>773994</td>\n",
       "      <td>22989001</td>\n",
       "      <td>372969095</td>\n",
       "    </tr>\n",
       "    <tr>\n",
       "      <th>Pets &amp; Animals</th>\n",
       "      <td>97118</td>\n",
       "      <td>15057</td>\n",
       "      <td>888466</td>\n",
       "      <td>18145666</td>\n",
       "    </tr>\n",
       "    <tr>\n",
       "      <th>Science &amp; Technology</th>\n",
       "      <td>696334</td>\n",
       "      <td>283412</td>\n",
       "      <td>8575920</td>\n",
       "      <td>243477653</td>\n",
       "    </tr>\n",
       "    <tr>\n",
       "      <th>Sports</th>\n",
       "      <td>1477110</td>\n",
       "      <td>445533</td>\n",
       "      <td>14271923</td>\n",
       "      <td>576541420</td>\n",
       "    </tr>\n",
       "    <tr>\n",
       "      <th>Travel &amp; Events</th>\n",
       "      <td>21876</td>\n",
       "      <td>5254</td>\n",
       "      <td>218429</td>\n",
       "      <td>6873370</td>\n",
       "    </tr>\n",
       "  </tbody>\n",
       "</table>\n",
       "</div>"
      ],
      "text/plain": [
       "                      comment_count  dislikes      likes  view_count\n",
       "trend                                                               \n",
       "Autos & Vehicles             260805     44400    3191581    55917651\n",
       "Comedy                      1057001    206928   17952077   206142921\n",
       "Education                    401346     61893    4853841    74887276\n",
       "Entertainment               5474915   1384350   68352753  1091820159\n",
       "Film & Animation             560603    155201    7017811   143054112\n",
       "Gaming                      2190586    731890   24188088   509275146\n",
       "Howto & Style                479648    209799    6753120   114483319\n",
       "Music                      24306545   4679051  162292594  2336477998\n",
       "News & Politics              485364    169690    1088567    79180012\n",
       "People & Blogs              1589696    773994   22989001   372969095\n",
       "Pets & Animals                97118     15057     888466    18145666\n",
       "Science & Technology         696334    283412    8575920   243477653\n",
       "Sports                      1477110    445533   14271923   576541420\n",
       "Travel & Events               21876      5254     218429     6873370"
      ]
     },
     "execution_count": 10,
     "metadata": {},
     "output_type": "execute_result"
    }
   ],
   "source": [
    "data_gb_numerical = data_gb_unique[[\"view_count\",\"likes\",\"dislikes\",\"comment_count\"]]\n",
    "data_gb_unique_pivot_table = pd.pivot_table(data_gb_unique,values=([\"view_count\",\"likes\",\n",
    "                                                                    \"dislikes\",\"comment_count\"])\n",
    "                                            ,aggfunc=\"sum\",index=\"trend\")\n",
    "data_gb_unique_pivot_table"
   ]
  },
  {
   "cell_type": "code",
   "execution_count": null,
   "metadata": {},
   "outputs": [],
   "source": []
  },
  {
   "cell_type": "code",
   "execution_count": null,
   "metadata": {},
   "outputs": [],
   "source": []
  },
  {
   "cell_type": "code",
   "execution_count": null,
   "metadata": {},
   "outputs": [],
   "source": []
  },
  {
   "cell_type": "code",
   "execution_count": null,
   "metadata": {},
   "outputs": [],
   "source": []
  },
  {
   "cell_type": "code",
   "execution_count": null,
   "metadata": {},
   "outputs": [],
   "source": []
  },
  {
   "cell_type": "code",
   "execution_count": null,
   "metadata": {},
   "outputs": [],
   "source": []
  },
  {
   "cell_type": "code",
   "execution_count": null,
   "metadata": {},
   "outputs": [],
   "source": []
  },
  {
   "cell_type": "code",
   "execution_count": null,
   "metadata": {},
   "outputs": [],
   "source": []
  },
  {
   "cell_type": "code",
   "execution_count": null,
   "metadata": {},
   "outputs": [],
   "source": []
  },
  {
   "cell_type": "code",
   "execution_count": null,
   "metadata": {},
   "outputs": [],
   "source": []
  },
  {
   "cell_type": "code",
   "execution_count": null,
   "metadata": {},
   "outputs": [],
   "source": []
  },
  {
   "cell_type": "code",
   "execution_count": null,
   "metadata": {},
   "outputs": [],
   "source": []
  },
  {
   "cell_type": "code",
   "execution_count": null,
   "metadata": {},
   "outputs": [],
   "source": []
  },
  {
   "cell_type": "code",
   "execution_count": null,
   "metadata": {},
   "outputs": [],
   "source": []
  },
  {
   "cell_type": "code",
   "execution_count": null,
   "metadata": {},
   "outputs": [],
   "source": []
  },
  {
   "cell_type": "code",
   "execution_count": null,
   "metadata": {},
   "outputs": [],
   "source": []
  },
  {
   "cell_type": "code",
   "execution_count": null,
   "metadata": {},
   "outputs": [],
   "source": []
  },
  {
   "cell_type": "code",
   "execution_count": null,
   "metadata": {},
   "outputs": [],
   "source": []
  },
  {
   "cell_type": "code",
   "execution_count": null,
   "metadata": {},
   "outputs": [],
   "source": []
  },
  {
   "cell_type": "code",
   "execution_count": null,
   "metadata": {
    "scrolled": false
   },
   "outputs": [],
   "source": [
    "sns.pairplot(data_gb_pivot_table.reset_index(),hue=\"trend\")"
   ]
  },
  {
   "cell_type": "code",
   "execution_count": null,
   "metadata": {},
   "outputs": [],
   "source": []
  },
  {
   "cell_type": "code",
   "execution_count": null,
   "metadata": {},
   "outputs": [],
   "source": []
  },
  {
   "cell_type": "code",
   "execution_count": null,
   "metadata": {},
   "outputs": [],
   "source": []
  },
  {
   "cell_type": "code",
   "execution_count": null,
   "metadata": {},
   "outputs": [],
   "source": []
  },
  {
   "cell_type": "code",
   "execution_count": null,
   "metadata": {},
   "outputs": [],
   "source": []
  },
  {
   "cell_type": "code",
   "execution_count": null,
   "metadata": {},
   "outputs": [],
   "source": []
  },
  {
   "cell_type": "code",
   "execution_count": null,
   "metadata": {},
   "outputs": [],
   "source": []
  },
  {
   "cell_type": "code",
   "execution_count": null,
   "metadata": {},
   "outputs": [],
   "source": []
  },
  {
   "cell_type": "code",
   "execution_count": null,
   "metadata": {},
   "outputs": [],
   "source": []
  },
  {
   "cell_type": "code",
   "execution_count": null,
   "metadata": {},
   "outputs": [],
   "source": []
  },
  {
   "cell_type": "code",
   "execution_count": null,
   "metadata": {},
   "outputs": [],
   "source": []
  },
  {
   "cell_type": "code",
   "execution_count": null,
   "metadata": {},
   "outputs": [],
   "source": []
  },
  {
   "cell_type": "code",
   "execution_count": null,
   "metadata": {},
   "outputs": [],
   "source": []
  },
  {
   "cell_type": "code",
   "execution_count": null,
   "metadata": {},
   "outputs": [],
   "source": []
  },
  {
   "cell_type": "markdown",
   "metadata": {},
   "source": [
    "Possible hypothesis;\n",
    "\n",
    "more popular the video more like/less dislike,\n",
    "tbc"
   ]
  }
 ],
 "metadata": {
  "kernelspec": {
   "display_name": "Python 3",
   "language": "python",
   "name": "python3"
  },
  "language_info": {
   "codemirror_mode": {
    "name": "ipython",
    "version": 3
   },
   "file_extension": ".py",
   "mimetype": "text/x-python",
   "name": "python",
   "nbconvert_exporter": "python",
   "pygments_lexer": "ipython3",
   "version": "3.8.3"
  }
 },
 "nbformat": 4,
 "nbformat_minor": 4
}
